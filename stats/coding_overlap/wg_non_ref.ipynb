{
 "cells": [
  {
   "cell_type": "code",
   "execution_count": 2,
   "metadata": {},
   "outputs": [],
   "source": [
    "from collections import defaultdict\n",
    "import numpy as np"
   ]
  },
  {
   "cell_type": "code",
   "execution_count": 8,
   "metadata": {},
   "outputs": [
    {
     "name": "stdout",
     "output_type": "stream",
     "text": [
      "1\n",
      "2\n",
      "3\n",
      "4\n",
      "5\n",
      "6\n",
      "7\n",
      "8\n",
      "9\n",
      "10\n",
      "11\n",
      "12\n",
      "13\n",
      "14\n",
      "15\n",
      "16\n",
      "17\n",
      "18\n",
      "19\n",
      "20\n",
      "21\n",
      "22\n"
     ]
    }
   ],
   "source": [
    "nr_per_sample_both = defaultdict(int)\n",
    "nr_per_sample_one = defaultdict(int)\n",
    "for i in range(1,23):\n",
    "    print(i)\n",
    "    gt_file = \"/gymreklab-tscc/helia/ensembl/experiments/stats/info/gt_chr\" + str(i) + \".txt\"\n",
    "    with open(gt_file) as f:\n",
    "        for line in f:\n",
    "            line = line.split()\n",
    "            GT = line[3].split(\"/\")\n",
    "            if GT[0] == \".\":\n",
    "                continue\n",
    "            if GT[0] != '0' and GT[1] != '0':\n",
    "                nr_per_sample_both[line[2]] += 1\n",
    "                continue\n",
    "            if GT[0] != '0' or GT[1] != '0':\n",
    "                nr_per_sample_one[line[2]] += 1"
   ]
  },
  {
   "cell_type": "code",
   "execution_count": 10,
   "metadata": {},
   "outputs": [
    {
     "name": "stdout",
     "output_type": "stream",
     "text": [
      "269572.19237976265\n",
      "250526.70549656465\n"
     ]
    }
   ],
   "source": [
    "print(np.mean(list(nr_per_sample_both.values())))\n",
    "print(np.mean(list(nr_per_sample_one.values())))"
   ]
  },
  {
   "cell_type": "code",
   "execution_count": null,
   "metadata": {},
   "outputs": [],
   "source": []
  }
 ],
 "metadata": {
  "kernelspec": {
   "display_name": "Python 3",
   "language": "python",
   "name": "python3"
  },
  "language_info": {
   "codemirror_mode": {
    "name": "ipython",
    "version": 3
   },
   "file_extension": ".py",
   "mimetype": "text/x-python",
   "name": "python",
   "nbconvert_exporter": "python",
   "pygments_lexer": "ipython3",
   "version": "3.6.8"
  }
 },
 "nbformat": 4,
 "nbformat_minor": 4
}
