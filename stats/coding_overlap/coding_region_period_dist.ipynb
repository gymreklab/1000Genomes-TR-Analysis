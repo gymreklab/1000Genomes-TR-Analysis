{
 "cells": [
  {
   "cell_type": "code",
   "execution_count": 1,
   "metadata": {},
   "outputs": [],
   "source": [
    "import pandas as pd\n",
    "import matplotlib.pyplot as plt"
   ]
  },
  {
   "cell_type": "code",
   "execution_count": 8,
   "metadata": {},
   "outputs": [
    {
     "name": "stdout",
     "output_type": "stream",
     "text": [
      "6492 1770311\n"
     ]
    }
   ],
   "source": [
    "##### Reading period and alt alleles for loci in coding regions and whole genome #####\n",
    "\n",
    "\n",
    "period_df_gene = pd.DataFrame(columns = ['period'])\n",
    "period_df_all = pd.DataFrame(columns = ['period'])\n",
    "\n",
    "coding_overlaps = pd.read_csv(\"TR_intersect.txt\", header = None, sep = \"\\t\")\n",
    "\n",
    "gene_all = 0\n",
    "all_all = 0\n",
    "\n",
    "for i in range(1,23):\n",
    "    info = pd.read_csv(\"/gymreklab-tscc/helia/ensembl/experiments/coding_regions/info/stats_chr\" + str(i) + \".txt\", header=None, sep = \"\\t\")\n",
    "    all_all += len(info)\n",
    "    gene_overlap = pd.merge(info, coding_overlaps, left_on = [0,1,3], right_on = [0,1,2])\n",
    "    gene_overlap = gene_overlap.drop_duplicates(subset = [0,1,3])\n",
    "    gene_period = gene_overlap.groupby(['2_x'], as_index=False).agg({3:'count'})\n",
    "    gene_all += len(gene_overlap)\n",
    "    gene_period.columns = ['period','count'+ str(i)]\n",
    "    \n",
    "    all_period = info.groupby([2], as_index=False).agg({3:'count'})\n",
    "    all_period.columns = ['period','count'+ str(i)]\n",
    "    \n",
    "    period_df_gene = pd.merge(period_df_gene, gene_period, on = 'period', how='outer')\n",
    "    period_df_all = pd.merge(period_df_all, all_period, on = 'period', how='outer')\n",
    "print(gene_all, all_all)\n",
    "    "
   ]
  },
  {
   "cell_type": "code",
   "execution_count": 9,
   "metadata": {},
   "outputs": [],
   "source": [
    "period_df_gene['sum'] =  period_df_gene[list(period_df_gene.filter(regex='count'))].sum(axis=1)\n",
    "period_df_gene = period_df_gene[['period','sum']]\n",
    "\n",
    "period_df_all['sum'] =  period_df_all[list(period_df_all.filter(regex='count'))].sum(axis=1)\n",
    "period_df_all = period_df_all[['period','sum']]\n",
    "\n",
    "greater_than_6_gene = period_df_gene[period_df_gene['period'] > 6]['sum'].sum()\n",
    "greater_than_6_gene\n",
    "\n",
    "greater_than_6_all = period_df_all[period_df_all['period'] > 6]['sum'].sum()\n",
    "greater_than_6_all\n",
    "\n",
    "gene_vals = period_df_gene[period_df_gene['period'] < 7]['sum'].to_list()\n",
    "all_vals = period_df_all[period_df_all['period'] < 7]['sum'].to_list()\n",
    "\n",
    "gene_vals.append(greater_than_6_gene)\n",
    "all_vals.append(greater_than_6_all)\n",
    "gene_vals = [x/gene_all for x in gene_vals]\n",
    "all_vals = [x/all_all for x in all_vals]"
   ]
  },
  {
   "cell_type": "code",
   "execution_count": 10,
   "metadata": {},
   "outputs": [
    {
     "data": {
      "image/png": "[encoded data removed]",
      "text/plain": [
       "<Figure size 720x504 with 1 Axes>"
      ]
     },
     "metadata": {
      "needs_background": "light"
     },
     "output_type": "display_data"
    }
   ],
   "source": [
    "plt.figure(figsize=(10,7))\n",
    "plt.bar([i-0.2 for i in range(1,8)], gene_vals, width=0.4, color = 'firebrick', label = 'Coding regions')\n",
    "plt.bar([i+0.2 for i in range(1,8)], all_vals, width=0.4, color = 'darkblue', label = 'Whole genome')\n",
    "plt.xticks(range(1,8),[str(i) for i in range(1,7)] + ['>6'])\n",
    "plt.legend()\n",
    "plt.xlabel(\"Period (bp)\")\n",
    "plt.ylabel(\"% of TRs\")\n",
    "plt.savefig(\"coding_period.pdf\", dpi=1200, format='pdf')"
   ]
  },
  {
   "cell_type": "code",
   "execution_count": null,
   "metadata": {},
   "outputs": [],
   "source": []
  }
 ],
 "metadata": {
  "kernelspec": {
   "display_name": "Python 3",
   "language": "python",
   "name": "python3"
  },
  "language_info": {
   "codemirror_mode": {
    "name": "ipython",
    "version": 3
   },
   "file_extension": ".py",
   "mimetype": "text/x-python",
   "name": "python",
   "nbconvert_exporter": "python",
   "pygments_lexer": "ipython3",
   "version": "3.6.8"
  }
 },
 "nbformat": 4,
 "nbformat_minor": 4
}
