{
 "cells": [
  {
   "cell_type": "code",
   "execution_count": 88,
   "metadata": {},
   "outputs": [],
   "source": [
    "import pandas as pd\n",
    "import os\n",
    "import matplotlib.pyplot as plt\n",
    "import seaborn as sns\n",
    "import numpy as np\n",
    "from collections import Counter\n",
    "from bioinfokit import analys, visuz\n",
    "from tqdm import tqdm"
   ]
  },
  {
   "cell_type": "code",
   "execution_count": 89,
   "metadata": {},
   "outputs": [],
   "source": [
    "results_path = os.path.join('computed_stats', 'kruskal.csv')\n",
    "alpha = 1e-9\n",
    "\n",
    "# Load data\n",
    "results = pd.read_csv(results_path)\n",
    "results = results.drop(columns = ['Unnamed: 0'])\n",
    "# Drop STRs where all populations had the same repeat count\n",
    "results = results.dropna().reset_index(drop=True)\n",
    "\n",
    "# Correct p-values\n",
    "results['kruskal_pval_bonf'] = results.kruskal_pval * len(results)\n",
    "results['kruskal_pval_bonf'].where(results['kruskal_pval_bonf'] < 1, 1, inplace=True)"
   ]
  },
  {
   "cell_type": "code",
   "execution_count": 90,
   "metadata": {},
   "outputs": [],
   "source": [
    "str_data_cache = {}"
   ]
  },
  {
   "cell_type": "code",
   "execution_count": 91,
   "metadata": {},
   "outputs": [],
   "source": [
    "data_dir_path = 'preprocessed_data'\n",
    "\n",
    "def find_pop_expansion(chrom, pos):\n",
    "\n",
    "# Get STR data\n",
    "    if chrom not in str_data_cache:\n",
    "        print(chrom)\n",
    "        str_data = pd.read_csv(os.path.join(data_dir_path, f'{chrom}.csv'))\n",
    "        str_data_cache[chrom] = str_data.drop_duplicates()\n",
    "    str_data = str_data_cache[chrom]\n",
    "    example_data = str_data[str_data.position == pos].iloc[0]\n",
    "\n",
    "    # Get diffs for each population and make dataframe\n",
    "    motif_len = example_data.motif_len\n",
    "    maximums = []\n",
    "    diffs_dict = {}\n",
    "    for pop in ['AMR', 'AFR', 'EAS', 'EUR', 'SAS']:\n",
    "        diffs = example_data[f'diffs_{pop}'].strip(' []').split(',')\n",
    "        if diffs == ['']:\n",
    "            return np.nan\n",
    "        diffs = [int(int(d.strip()) / motif_len) for d in diffs]\n",
    "        diffs_dict[pop] = diffs\n",
    "        maximums.append((max(diffs), pop))\n",
    "    \n",
    "    maximums.sort(reverse=True)\n",
    "    if maximums[0][0] < 10:\n",
    "        return\n",
    "\n",
    "#     if maximums[0][0] - maximums[1][0] > 15:\n",
    "    counts_5 = len([x for x in diffs_dict[maximums[0][1]] if x >= maximums[0][0] - 5])\n",
    "    counts_10 = len([x for x in diffs_dict[maximums[0][1]] if x >= maximums[0][0] - 10])\n",
    "    counts_15 = len([x for x in diffs_dict[maximums[0][1]] if x >= maximums[0][0] - 15])\n",
    "    counts_mid = len([x for x in diffs_dict[maximums[0][1]] if x >= (maximums[0][0] + maximums[1][0]) / 2])\n",
    "    \n",
    "    stats.append([chrom, pos, motif_len, maximums[0][0], \n",
    "                  maximums[0][1], maximums[1][0], counts_5, counts_10, counts_15, counts_mid])"
   ]
  },
  {
   "cell_type": "code",
   "execution_count": 92,
   "metadata": {},
   "outputs": [
    {
     "name": "stderr",
     "output_type": "stream",
     "text": [
      "\r",
      "  0%|          | 0/1273311 [00:00<?, ?it/s]"
     ]
    },
    {
     "name": "stdout",
     "output_type": "stream",
     "text": [
      "chr1\n"
     ]
    },
    {
     "name": "stderr",
     "output_type": "stream",
     "text": [
      "  9%|▊         | 110018/1273311 [08:32<1:27:05, 222.63it/s]"
     ]
    },
    {
     "name": "stdout",
     "output_type": "stream",
     "text": [
      "chr2\n"
     ]
    },
    {
     "name": "stderr",
     "output_type": "stream",
     "text": [
      " 17%|█▋        | 217775/1273311 [16:55<1:17:30, 226.96it/s] "
     ]
    },
    {
     "name": "stdout",
     "output_type": "stream",
     "text": [
      "chr3\n"
     ]
    },
    {
     "name": "stderr",
     "output_type": "stream",
     "text": [
      " 24%|██▍       | 306770/1273311 [23:53<1:10:37, 228.10it/s]"
     ]
    },
    {
     "name": "stdout",
     "output_type": "stream",
     "text": [
      "chr4\n"
     ]
    },
    {
     "name": "stderr",
     "output_type": "stream",
     "text": [
      " 30%|███       | 387521/1273311 [30:18<1:06:38, 221.51it/s] "
     ]
    },
    {
     "name": "stdout",
     "output_type": "stream",
     "text": [
      "chr5\n"
     ]
    },
    {
     "name": "stderr",
     "output_type": "stream",
     "text": [
      " 37%|███▋      | 465591/1273311 [36:30<1:00:12, 223.59it/s]"
     ]
    },
    {
     "name": "stdout",
     "output_type": "stream",
     "text": [
      "chr6\n"
     ]
    },
    {
     "name": "stderr",
     "output_type": "stream",
     "text": [
      " 43%|████▎     | 543167/1273311 [42:40<54:16, 224.20it/s]   "
     ]
    },
    {
     "name": "stdout",
     "output_type": "stream",
     "text": [
      "chr7\n"
     ]
    },
    {
     "name": "stderr",
     "output_type": "stream",
     "text": [
      " 48%|████▊     | 613902/1273311 [48:14<47:46, 230.03it/s]  "
     ]
    },
    {
     "name": "stdout",
     "output_type": "stream",
     "text": [
      "chr8\n"
     ]
    },
    {
     "name": "stderr",
     "output_type": "stream",
     "text": [
      " 53%|█████▎    | 678724/1273311 [53:19<44:36, 222.17it/s]  "
     ]
    },
    {
     "name": "stdout",
     "output_type": "stream",
     "text": [
      "chr9\n"
     ]
    },
    {
     "name": "stderr",
     "output_type": "stream",
     "text": [
      " 57%|█████▋    | 731774/1273311 [57:29<39:28, 228.67it/s]  "
     ]
    },
    {
     "name": "stdout",
     "output_type": "stream",
     "text": [
      "chr10\n"
     ]
    },
    {
     "name": "stderr",
     "output_type": "stream",
     "text": [
      " 62%|██████▏   | 793340/1273311 [1:02:17<34:44, 230.25it/s]"
     ]
    },
    {
     "name": "stdout",
     "output_type": "stream",
     "text": [
      "chr11\n"
     ]
    },
    {
     "name": "stderr",
     "output_type": "stream",
     "text": [
      " 67%|██████▋   | 852020/1273311 [1:06:54<31:17, 224.43it/s]  "
     ]
    },
    {
     "name": "stdout",
     "output_type": "stream",
     "text": [
      "chr12\n"
     ]
    },
    {
     "name": "stderr",
     "output_type": "stream",
     "text": [
      " 72%|███████▏  | 919092/1273311 [1:12:08<26:01, 226.89it/s]  "
     ]
    },
    {
     "name": "stdout",
     "output_type": "stream",
     "text": [
      "chr13\n"
     ]
    },
    {
     "name": "stderr",
     "output_type": "stream",
     "text": [
      " 75%|███████▌  | 960666/1273311 [1:15:23<22:21, 233.10it/s]  "
     ]
    },
    {
     "name": "stdout",
     "output_type": "stream",
     "text": [
      "chr14\n"
     ]
    },
    {
     "name": "stderr",
     "output_type": "stream",
     "text": [
      " 79%|███████▉  | 1003541/1273311 [1:18:43<18:51, 238.37it/s] "
     ]
    },
    {
     "name": "stdout",
     "output_type": "stream",
     "text": [
      "chr15\n"
     ]
    },
    {
     "name": "stderr",
     "output_type": "stream",
     "text": [
      " 82%|████████▏ | 1042321/1273311 [1:21:45<16:47, 229.37it/s]  "
     ]
    },
    {
     "name": "stdout",
     "output_type": "stream",
     "text": [
      "chr16\n"
     ]
    },
    {
     "name": "stderr",
     "output_type": "stream",
     "text": [
      " 85%|████████▌ | 1084977/1273311 [1:25:04<14:04, 223.13it/s]  "
     ]
    },
    {
     "name": "stdout",
     "output_type": "stream",
     "text": [
      "chr17\n"
     ]
    },
    {
     "name": "stderr",
     "output_type": "stream",
     "text": [
      " 89%|████████▉ | 1132157/1273311 [1:28:41<10:11, 230.97it/s] "
     ]
    },
    {
     "name": "stdout",
     "output_type": "stream",
     "text": [
      "chr18\n"
     ]
    },
    {
     "name": "stderr",
     "output_type": "stream",
     "text": [
      " 92%|█████████▏| 1165620/1273311 [1:31:19<07:47, 230.46it/s] "
     ]
    },
    {
     "name": "stdout",
     "output_type": "stream",
     "text": [
      "chr19\n"
     ]
    },
    {
     "name": "stderr",
     "output_type": "stream",
     "text": [
      " 95%|█████████▍| 1207707/1273311 [1:34:31<04:44, 230.70it/s] "
     ]
    },
    {
     "name": "stdout",
     "output_type": "stream",
     "text": [
      "chr20\n"
     ]
    },
    {
     "name": "stderr",
     "output_type": "stream",
     "text": [
      " 97%|█████████▋| 1238260/1273311 [1:36:55<02:29, 234.49it/s] "
     ]
    },
    {
     "name": "stdout",
     "output_type": "stream",
     "text": [
      "chr21\n"
     ]
    },
    {
     "name": "stderr",
     "output_type": "stream",
     "text": [
      " 98%|█████████▊| 1253727/1273311 [1:38:05<01:24, 231.08it/s]"
     ]
    },
    {
     "name": "stdout",
     "output_type": "stream",
     "text": [
      "chr22\n"
     ]
    },
    {
     "name": "stderr",
     "output_type": "stream",
     "text": [
      "100%|██████████| 1273311/1273311 [1:39:35<00:00, 213.10it/s]\n"
     ]
    }
   ],
   "source": [
    "stats = []\n",
    "loci = list(zip(results.chr, results.position))\n",
    "for i in tqdm(range(len(loci))):\n",
    "    find_pop_expansion(loci[i][0], loci[i][1])"
   ]
  },
  {
   "cell_type": "code",
   "execution_count": 115,
   "metadata": {},
   "outputs": [],
   "source": [
    "stats_df = pd.DataFrame(stats, columns = ['chr', 'pos', 'motif', \n",
    "                                          'max_cn', 'max_pop', 'second_cn', 'more_5',\n",
    "                                          'more_10', 'more15', 'more_mid'])\n",
    "\n",
    "stats_df['dif_cn'] = stats_df['max_cn'] - stats_df['second_cn']\n",
    "\n",
    "stats_df.to_csv(\"expansion_stats.csv\", index=False, sep = \"\\t\")\n",
    "\n",
    "diff = list(stats_df['dif_cn'].sort_values(ignore_index=True))\n",
    "\n"
   ]
  },
  {
   "cell_type": "code",
   "execution_count": 164,
   "metadata": {},
   "outputs": [],
   "source": [
    "stats_df.to_csv(\"expansion_stats.csv\", index=False, sep = \"\\t\")\n"
   ]
  },
  {
   "cell_type": "code",
   "execution_count": 131,
   "metadata": {},
   "outputs": [],
   "source": [
    "# Examine found expansions\n",
    "\n",
    "def plot(chrom, pos):\n",
    "\n",
    "# Get STR data\n",
    "    if chrom not in str_data_cache:\n",
    "        print(chrom)\n",
    "        str_data = pd.read_csv(os.path.join(data_dir_path, f'{chrom}.csv'))\n",
    "        str_data_cache[chrom] = str_data.drop_duplicates()\n",
    "    str_data = str_data_cache[chrom]\n",
    "    \n",
    "    example_data = str_data[str_data.position == pos].iloc[0]\n",
    "    \n",
    "\n",
    "    # Get diffs for each population and make dataframe\n",
    "    diff_data = []\n",
    "    for pop in ['AMR', 'AFR', 'EAS', 'EUR', 'SAS']:\n",
    "        diffs = example_data[f'diffs_{pop}'].strip(' []').split(',')\n",
    "        if diffs == ['']:\n",
    "            return -1\n",
    "        diff_data.extend(\n",
    "                [{'Super Population': pop, 'diff_n_bases': int(d.strip())} for d in diffs]\n",
    "                )\n",
    "\n",
    "\n",
    "    diff_data = pd.DataFrame(diff_data)\n",
    "    diff_data['Copy Num. From Ref.'] = diff_data.diff_n_bases / example_data.motif_len\n",
    "    \n",
    "    # Plot\n",
    "    sns.displot(\n",
    "        data=diff_data,\n",
    "        x='Copy Num. From Ref.',\n",
    "        hue='Super Population',\n",
    "        kind=\"kde\",\n",
    "        common_norm=False,\n",
    "        common_grid=True,\n",
    "        bw_adjust=1.5\n",
    "    )\n",
    "    plt.suptitle(f\"STR Copy Number Distribution for {chrom}:{pos}\")\n",
    "    plt.tight_layout()\n",
    "    #plt.savefig(os.path.join(plot_save_dir, f\"{results.iloc[i].chr}_{results.iloc[i].position}.png\"))\n",
    "    plt.show()\n",
    "\n",
    "def examine(chrom, pos, threshold):\n",
    "\n",
    "    # Get STR data\n",
    "    if chrom not in str_data_cache:\n",
    "        print(chrom)\n",
    "        str_data = pd.read_csv(os.path.join(data_dir_path, f'{chrom}.csv'))\n",
    "        str_data_cache[chrom] = str_data.drop_duplicates()\n",
    "    str_data = str_data_cache[chrom]\n",
    "    example_data = str_data[str_data.position == pos].iloc[0]\n",
    "    \n",
    "    motif_len = example_data.motif_len\n",
    "    print(chrom, pos, motif_len)\n",
    "    diffs_dict = {}\n",
    "    for pop in ['AMR', 'AFR', 'EAS', 'EUR', 'SAS']:\n",
    "        diffs = example_data[f'diffs_{pop}'].strip(' []').split(',')\n",
    "        if diffs == ['']:\n",
    "            return np.nan\n",
    "        diffs = [int(int(d.strip()) / motif_len) for d in diffs]\n",
    "        diffs_dict[pop] = len([d for d in diffs if d > threshold])\n",
    "    return diffs_dict    \n",
    "\n",
    "for index, row in expansions.iterrows():\n",
    "    chrom = row['chr']\n",
    "    pos = row['pos']\n",
    "    print(examine(chrom, pos, 15))\n",
    "    plot(chrom, pos)\n",
    "    \n"
   ]
  },
  {
   "cell_type": "code",
   "execution_count": 165,
   "metadata": {},
   "outputs": [
    {
     "name": "stderr",
     "output_type": "stream",
     "text": [
      "/cm/shared/apps/spack/gpu/opt/spack/linux-centos8-skylake_avx512/gcc-8.3.1/anaconda3-2020.11-bsn4npoxyw7jzz7fajncek3bvdoaa5wv/lib/python3.8/site-packages/IPython/core/interactiveshell.py:3146: DtypeWarning: Columns (0) have mixed types.Specify dtype option on import or set low_memory=False.\n",
      "  has_raised = await self.run_ast_nodes(code_ast.body, cell_name,\n"
     ]
    }
   ],
   "source": [
    "#Extract gene information\n",
    "\n",
    "genes = pd.read_csv(\"Homo_sapiens.GRCh38.108.gtf\", sep = \"\\t\", comment=\"#\", header=None)\n",
    "genes[0] = \"chr\" + genes[0].astype(str)\n",
    "\n",
    "\n",
    "def find_genes(row):\n",
    "    gene_df = genes[(genes[0] == row['chr']) & (genes[3] <= row['pos']) & \n",
    "                    (genes[4] >= row['pos'])]\n",
    "    if len(gene_df) == 0:\n",
    "        return None\n",
    "    gene_df_info = gene_df[8].str.split(\";\")\n",
    "    gene_set = set()\n",
    "    for info in list(gene_df_info):\n",
    "        for field in info:\n",
    "            if \"gene_name\" in field:\n",
    "                name = field.strip().replace(\"gene_name \",\"\").replace('\"','')\n",
    "                gene_set.add(name)\n",
    "    if len(gene_set) == 0:\n",
    "        return None\n",
    "                \n",
    "    return \",\".join(list(gene_set))"
   ]
  },
  {
   "cell_type": "code",
   "execution_count": 169,
   "metadata": {},
   "outputs": [],
   "source": [
    "# Final table\n",
    "\n",
    "expansions = stats_df[(stats_df['dif_cn'] >= 15) & (stats_df['more_mid'] > 10)].sort_values('dif_cn')\n",
    "\n",
    "def aggregate_info(row):\n",
    "    expansion_dict = {}\n",
    "    mid = int((row['max_cn'] + row['second_cn'])/2)\n",
    "    expansion_dict[row['max_cn'] - 5] = row['more_5']\n",
    "    expansion_dict[row['max_cn'] - 10] = row['more_10']\n",
    "    expansion_dict[row['max_cn'] - 15] = row['more15']\n",
    "    expansion_dict[mid] = row['more_mid']\n",
    "    return expansion_dict\n",
    "    \n",
    "expansions['gene'] = expansions.apply(lambda row: find_genes(row), axis = 1)\n",
    "expansions['size:number'] = expansions.apply(lambda row: aggregate_info(row), axis = 1)\n",
    "expansions = expansions.drop(columns = ['more_5', 'more_10', 'more15', 'more_mid', 'dif_cn'])\n",
    "expansions.sort_values(\"max_cn\").to_csv(\"large_expansions.csv\", sep = \"\\t\", index = False)"
   ]
  },
  {
   "cell_type": "code",
   "execution_count": null,
   "metadata": {},
   "outputs": [],
   "source": []
  }
 ],
 "metadata": {
  "kernelspec": {
   "display_name": "Python 3",
   "language": "python",
   "name": "python3"
  },
  "language_info": {
   "codemirror_mode": {
    "name": "ipython",
    "version": 3
   },
   "file_extension": ".py",
   "mimetype": "text/x-python",
   "name": "python",
   "nbconvert_exporter": "python",
   "pygments_lexer": "ipython3",
   "version": "3.8.5"
  }
 },
 "nbformat": 4,
 "nbformat_minor": 4
}
