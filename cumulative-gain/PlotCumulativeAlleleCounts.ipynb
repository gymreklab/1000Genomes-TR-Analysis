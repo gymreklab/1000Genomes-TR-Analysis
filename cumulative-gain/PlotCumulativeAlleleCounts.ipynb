{
 "cells": [
  {
   "cell_type": "code",
   "execution_count": 1,
   "metadata": {},
   "outputs": [
    {
     "name": "stdout",
     "output_type": "stream",
     "text": [
      "Populating the interactive namespace from numpy and matplotlib\n"
     ]
    },
    {
     "data": {
      "text/html": [
       "<div>\n",
       "<style scoped>\n",
       "    .dataframe tbody tr th:only-of-type {\n",
       "        vertical-align: middle;\n",
       "    }\n",
       "\n",
       "    .dataframe tbody tr th {\n",
       "        vertical-align: top;\n",
       "    }\n",
       "\n",
       "    .dataframe thead th {\n",
       "        text-align: right;\n",
       "    }\n",
       "</style>\n",
       "<table border=\"1\" class=\"dataframe\">\n",
       "  <thead>\n",
       "    <tr style=\"text-align: right;\">\n",
       "      <th></th>\n",
       "      <th>sample</th>\n",
       "      <th>sing</th>\n",
       "      <th>double</th>\n",
       "      <th>poly</th>\n",
       "      <th>pop</th>\n",
       "    </tr>\n",
       "  </thead>\n",
       "  <tbody>\n",
       "    <tr>\n",
       "      <th>0</th>\n",
       "      <td>NA06984</td>\n",
       "      <td>3386</td>\n",
       "      <td>10789</td>\n",
       "      <td>0</td>\n",
       "      <td>CEU</td>\n",
       "    </tr>\n",
       "    <tr>\n",
       "      <th>1</th>\n",
       "      <td>NA06985</td>\n",
       "      <td>3315</td>\n",
       "      <td>1740</td>\n",
       "      <td>11063</td>\n",
       "      <td>CEU</td>\n",
       "    </tr>\n",
       "    <tr>\n",
       "      <th>2</th>\n",
       "      <td>NA06986</td>\n",
       "      <td>3419</td>\n",
       "      <td>1607</td>\n",
       "      <td>12370</td>\n",
       "      <td>CEU</td>\n",
       "    </tr>\n",
       "    <tr>\n",
       "      <th>3</th>\n",
       "      <td>NA06989</td>\n",
       "      <td>3531</td>\n",
       "      <td>1581</td>\n",
       "      <td>13239</td>\n",
       "      <td>CEU</td>\n",
       "    </tr>\n",
       "    <tr>\n",
       "      <th>4</th>\n",
       "      <td>NA06991</td>\n",
       "      <td>3213</td>\n",
       "      <td>1668</td>\n",
       "      <td>13893</td>\n",
       "      <td>CEU</td>\n",
       "    </tr>\n",
       "    <tr>\n",
       "      <th>...</th>\n",
       "      <td>...</td>\n",
       "      <td>...</td>\n",
       "      <td>...</td>\n",
       "      <td>...</td>\n",
       "      <td>...</td>\n",
       "    </tr>\n",
       "    <tr>\n",
       "      <th>3545</th>\n",
       "      <td>ZR043</td>\n",
       "      <td>14589</td>\n",
       "      <td>8094</td>\n",
       "      <td>62364</td>\n",
       "      <td>Zambia</td>\n",
       "    </tr>\n",
       "    <tr>\n",
       "      <th>3546</th>\n",
       "      <td>ZR044</td>\n",
       "      <td>14587</td>\n",
       "      <td>8101</td>\n",
       "      <td>62368</td>\n",
       "      <td>Zambia</td>\n",
       "    </tr>\n",
       "    <tr>\n",
       "      <th>3547</th>\n",
       "      <td>ZR046</td>\n",
       "      <td>14587</td>\n",
       "      <td>8098</td>\n",
       "      <td>62377</td>\n",
       "      <td>Zambia</td>\n",
       "    </tr>\n",
       "    <tr>\n",
       "      <th>3548</th>\n",
       "      <td>ZR047</td>\n",
       "      <td>14587</td>\n",
       "      <td>8102</td>\n",
       "      <td>62383</td>\n",
       "      <td>Zambia</td>\n",
       "    </tr>\n",
       "    <tr>\n",
       "      <th>3549</th>\n",
       "      <td>ZR049</td>\n",
       "      <td>14587</td>\n",
       "      <td>8100</td>\n",
       "      <td>62390</td>\n",
       "      <td>Zambia</td>\n",
       "    </tr>\n",
       "  </tbody>\n",
       "</table>\n",
       "<p>3550 rows × 5 columns</p>\n",
       "</div>"
      ],
      "text/plain": [
       "       sample   sing  double   poly     pop\n",
       "0     NA06984   3386   10789      0     CEU\n",
       "1     NA06985   3315    1740  11063     CEU\n",
       "2     NA06986   3419    1607  12370     CEU\n",
       "3     NA06989   3531    1581  13239     CEU\n",
       "4     NA06991   3213    1668  13893     CEU\n",
       "...       ...    ...     ...    ...     ...\n",
       "3545    ZR043  14589    8094  62364  Zambia\n",
       "3546    ZR044  14587    8101  62368  Zambia\n",
       "3547    ZR046  14587    8098  62377  Zambia\n",
       "3548    ZR047  14587    8102  62383  Zambia\n",
       "3549    ZR049  14587    8100  62390  Zambia\n",
       "\n",
       "[3550 rows x 5 columns]"
      ]
     },
     "execution_count": 1,
     "metadata": {},
     "output_type": "execute_result"
    }
   ],
   "source": [
    "%pylab inline\n",
    "\n",
    "import matplotlib\n",
    "matplotlib.rcParams['pdf.fonttype'] = 42\n",
    "matplotlib.rcParams['ps.fonttype'] = 42\n",
    "\n",
    "import pandas as pd\n",
    "\n",
    "data = pd.read_csv(\"cumulative_allele_counts.tab\", sep=\"\\t\",\n",
    "                  names=[\"sample\",\"sing\",\"double\",\"poly\",\"pop\"])\n",
    "data = data[(data[\"sing\"]+data[\"double\"]+data[\"poly\"])>0]\n",
    "data"
   ]
  },
  {
   "cell_type": "code",
   "execution_count": 2,
   "metadata": {},
   "outputs": [],
   "source": [
    "eur_count = data[data[\"pop\"].isin([\"CEU\",\"FIN\",\"GBR\",\"IBS\",\"TSI\"])].shape[0]\n",
    "eas_count = data[data[\"pop\"].isin([\"CDX\",\"CHB\",\"CHS\",\"JPT\",\"KHV\"])].shape[0]\n",
    "sas_count = data[data[\"pop\"].isin([\"BEB\",\"GIH\",\"ITU\",\"PJL\",\"STU\"])].shape[0]\n",
    "amr_count = data[data[\"pop\"].isin([\"CLM\",\"MXL\",\"PEL\",\"PUR\"])].shape[0]\n",
    "afr_count = data[data[\"pop\"].isin([\"ACB\",\"ASW\",\"ESN\",\"GWD\",\"LWK\",\"MSL\",\"YRI\"])].shape[0]\n",
    "h3afr_count = data[data[\"pop\"].isin([\"Benin\",\"Botswana\",\"Burkina_Faso-Ghana\",\"Cameroon_24\", \\\n",
    "                                   \"Cameroon_26\", \"Mali\",\"Nigeria\",\"Zambi\"])].shape[0]"
   ]
  },
  {
   "cell_type": "code",
   "execution_count": 3,
   "metadata": {},
   "outputs": [
    {
     "data": {
      "image/png": "[encoded data removed]",
      "text/plain": [
       "<Figure size 720x360 with 1 Axes>"
      ]
     },
     "metadata": {
      "needs_background": "light"
     },
     "output_type": "display_data"
    }
   ],
   "source": [
    "fig = plt.figure()\n",
    "fig.set_size_inches((10, 5))\n",
    "ax = fig.add_subplot(111)\n",
    "ax.spines['right'].set_visible(False)\n",
    "ax.spines['top'].set_visible(False)\n",
    "ax.yaxis.set_ticks_position('left')\n",
    "ax.xaxis.set_ticks_position('bottom')\n",
    "ax.bar(range(data.shape[0]), data[\"poly\"], color=\"orange\");\n",
    "ax.bar(range(data.shape[0]), data[\"double\"], bottom=data[\"poly\"], color=\"purple\");\n",
    "ax.bar(range(data.shape[0]), data[\"sing\"], bottom=data[\"poly\"]+data[\"double\"], color=\"blue\");\n",
    "ax.axvline(x=eur_count, linestyle=\"dashed\",color=\"gray\",linewidth=0.5)\n",
    "ax.axvline(x=eur_count+eas_count, linestyle=\"dashed\",color=\"gray\",linewidth=0.5)\n",
    "ax.axvline(x=eur_count+eas_count+sas_count, linestyle=\"dashed\",color=\"gray\",linewidth=0.5)\n",
    "ax.axvline(x=eur_count+eas_count+sas_count+amr_count, linestyle=\"dashed\",color=\"gray\",linewidth=0.5)\n",
    "ax.axvline(x=eur_count+eas_count+sas_count+amr_count+afr_count, linestyle=\"dashed\",color=\"gray\",linewidth=0.5)\n",
    "ax.set_xlim(0, data.shape[0]);\n",
    "ax.set_xticks([])\n",
    "ax.set_ylabel(\"Number of alleles\")\n",
    "fig.savefig(\"cumulative_variation_plot.pdf\")"
   ]
  },
  {
   "cell_type": "code",
   "execution_count": null,
   "metadata": {},
   "outputs": [],
   "source": []
  }
 ],
 "metadata": {
  "kernelspec": {
   "display_name": "Python 3",
   "language": "python",
   "name": "python3"
  },
  "language_info": {
   "codemirror_mode": {
    "name": "ipython",
    "version": 3
   },
   "file_extension": ".py",
   "mimetype": "text/x-python",
   "name": "python",
   "nbconvert_exporter": "python",
   "pygments_lexer": "ipython3",
   "version": "3.8.5"
  }
 },
 "nbformat": 4,
 "nbformat_minor": 4
}
