{
 "cells": [
  {
   "cell_type": "code",
   "execution_count": 19,
   "metadata": {},
   "outputs": [
    {
     "name": "stdout",
     "output_type": "stream",
     "text": [
      "Populating the interactive namespace from numpy and matplotlib\n"
     ]
    }
   ],
   "source": [
    "%pylab inline\n",
    "\n",
    "import matplotlib\n",
    "matplotlib.rcParams['pdf.fonttype'] = 42\n",
    "matplotlib.rcParams['ps.fonttype'] = 42\n",
    "from matplotlib.colors import LogNorm\n",
    "import os\n",
    "import seaborn as sns\n",
    "import scipy.stats\n",
    "\n",
    "import pandas as pd\n",
    "\n",
    "dfs = []\n",
    "for chrom in range(1, 23):\n",
    "    if not os.path.exists(\"chr%s.period.tab\"%chrom): continue\n",
    "    data = pd.read_csv(\"chr%s.stats.tab\"%chrom, sep=\"\\t\")\n",
    "    dfs.append(data)\n",
    "data = pd.concat(dfs)\n",
    "\n",
    "motifs = pd.read_csv(\"motif_info.tab\", sep=\"\\t\", names=[\"chrom\", \"start\",\"period\",\"motif\"])\n",
    "data = pd.merge(data, motifs, on=[\"chrom\",\"start\"])\n",
    "data[\"reflen\"] = data.apply(lambda x: (x[\"end\"]-x[\"start\"]+1)/x[\"period\"], 1)\n",
    "data[\"reflen-bp\"] = data.apply(lambda x: (x[\"end\"]-x[\"start\"]+1), 1)"
   ]
  },
  {
   "cell_type": "code",
   "execution_count": 20,
   "metadata": {},
   "outputs": [],
   "source": [
    "data = data[(data[\"motif\"].apply(type)==str)]"
   ]
  },
  {
   "cell_type": "code",
   "execution_count": 24,
   "metadata": {},
   "outputs": [],
   "source": [
    "# Subset to chr1 to make it faster. trends should be the same\n",
    "data = data[data[\"chrom\"]==\"chr1\"]"
   ]
  },
  {
   "cell_type": "code",
   "execution_count": null,
   "metadata": {},
   "outputs": [],
   "source": [
    "# Plot reflen vs. het by period, overall and for each population\n",
    "\n",
    "def GetMatchesMotif(motif, motiflist):\n",
    "    for m in motiflist:\n",
    "        if m == \"ALL\": return True\n",
    "        elif type(m) == int or type(m) == float:\n",
    "            if len(motif)==m: return True\n",
    "        elif m == \"vntr\":\n",
    "            if len(motif)> 6: return True\n",
    "        else:\n",
    "            if m == motif: return True\n",
    "    return False\n",
    "    \n",
    "def PlotLenVsHet(data, lencol=\"reflen\", pop=None, motifs=None, colors=None, figname=None):\n",
    "    \"\"\"\n",
    "    Plot length vs. het\n",
    "    If pop=None, use het-ALL. else use het-${pop}\n",
    "    motifs is a list of motifs. or 1, 2, 3 etc. for\n",
    "    all motifs with that length. Use \"vntr\" for 7+\n",
    "    \"\"\"\n",
    "    if lencol == \"reflen\":\n",
    "        MINLEN = 10\n",
    "        MAXLEN = 30\n",
    "    else:\n",
    "        MINLEN = 10\n",
    "        MAXLEN = 100\n",
    "    if pop is None:\n",
    "        col = \"het-ALL\"\n",
    "    else: col = \"het-%s\"%pop\n",
    "    fig = plt.figure()\n",
    "    ax = fig.add_subplot(111)\n",
    "    if motifs is None:\n",
    "        motifs = [\"ALL\"]\n",
    "        colors = [\"black\"]\n",
    "    assert(len(motifs)==len(colors))\n",
    "    for i in range(len(motifs)):\n",
    "        m = motifs[i]\n",
    "        lenbins = range(MINLEN, MAXLEN+1)\n",
    "        if lencol == \"reflen\":\n",
    "            lenbins = np.arange(MINLEN, MAXLEN, 1)\n",
    "        else:\n",
    "            if (m in [1,2,3] or (type(m)==str and len(m) <3)) and m != \"vntr\" and (m != \"ALL\"):\n",
    "                lenbins = range(MINLEN, MAXLEN+1)\n",
    "            else:\n",
    "                lenbins = np.arange(MINLEN, MAXLEN, 1)  # could go lower resolution here if we want\n",
    "        color = colors[i]\n",
    "        xvals = []\n",
    "        yvals = []\n",
    "        for j in range(len(lenbins)-1):\n",
    "            lb = lenbins[j]\n",
    "            ub = lenbins[j+1]\n",
    "            xx = data[(data[lencol]>=lb) & (data[lencol]<ub) &\n",
    "                                      (data[\"motif\"].apply(lambda x: GetMatchesMotif(x, [m]), 1))]\n",
    "            if xx.shape[0] > 20:\n",
    "                xvals.append(lb)\n",
    "                yvals.append(np.mean(xx[col]))\n",
    "        ax.plot(xvals, yvals, color=color)\n",
    "    if figname is not None: fig.savefig(figname)\n",
    "PlotLenVsHet(data, motifs=[1,2,3,4,5,6,\"vntr\"],\n",
    "             lencol=\"reflen-bp\", colors=[\"gray\",\"red\",\"gold\",\"blue\",\"green\",\"purple\",\"brown\"],\n",
    "            figname=\"LengthVsHet-bp-ALL.pdf\");"
   ]
  },
  {
   "cell_type": "code",
   "execution_count": null,
   "metadata": {},
   "outputs": [],
   "source": [
    "for pop in [\"EUR\",\"AMR\",\"SAS\",\"EAS\",\"AFR\",\"H3AFR\"]"
   ]
  },
  {
   "cell_type": "code",
   "execution_count": null,
   "metadata": {},
   "outputs": [],
   "source": []
  }
 ],
 "metadata": {
  "kernelspec": {
   "display_name": "Python 3",
   "language": "python",
   "name": "python3"
  },
  "language_info": {
   "codemirror_mode": {
    "name": "ipython",
    "version": 3
   },
   "file_extension": ".py",
   "mimetype": "text/x-python",
   "name": "python",
   "nbconvert_exporter": "python",
   "pygments_lexer": "ipython3",
   "version": "3.7.4"
  }
 },
 "nbformat": 4,
 "nbformat_minor": 4
}
