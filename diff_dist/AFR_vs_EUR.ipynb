{
 "cells": [
  {
   "cell_type": "code",
   "execution_count": 32,
   "metadata": {},
   "outputs": [],
   "source": [
    "import pandas as pd\n",
    "import os\n",
    "import matplotlib.pyplot as plt\n",
    "import seaborn as sns\n",
    "import numpy as np\n",
    "from collections import Counter\n",
    "from bioinfokit import analys, visuz\n",
    "from tqdm import tqdm\n",
    "from scipy import stats"
   ]
  },
  {
   "cell_type": "code",
   "execution_count": 2,
   "metadata": {},
   "outputs": [
    {
     "data": {
      "text/html": [
       "<div>\n",
       "<style scoped>\n",
       "    .dataframe tbody tr th:only-of-type {\n",
       "        vertical-align: middle;\n",
       "    }\n",
       "\n",
       "    .dataframe tbody tr th {\n",
       "        vertical-align: top;\n",
       "    }\n",
       "\n",
       "    .dataframe thead th {\n",
       "        text-align: right;\n",
       "    }\n",
       "</style>\n",
       "<table border=\"1\" class=\"dataframe\">\n",
       "  <thead>\n",
       "    <tr style=\"text-align: right;\">\n",
       "      <th></th>\n",
       "      <th>chr</th>\n",
       "      <th>position</th>\n",
       "      <th>motif_len</th>\n",
       "      <th>kruskal_statistic</th>\n",
       "      <th>kruskal_pval</th>\n",
       "      <th>kruskal_pval_bonf</th>\n",
       "    </tr>\n",
       "  </thead>\n",
       "  <tbody>\n",
       "    <tr>\n",
       "      <th>0</th>\n",
       "      <td>chr1</td>\n",
       "      <td>899025</td>\n",
       "      <td>1</td>\n",
       "      <td>11.974592</td>\n",
       "      <td>5.393089e-04</td>\n",
       "      <td>1.000000e+00</td>\n",
       "    </tr>\n",
       "    <tr>\n",
       "      <th>1</th>\n",
       "      <td>chr1</td>\n",
       "      <td>902774</td>\n",
       "      <td>1</td>\n",
       "      <td>330.273090</td>\n",
       "      <td>8.381236e-74</td>\n",
       "      <td>9.953757e-68</td>\n",
       "    </tr>\n",
       "    <tr>\n",
       "      <th>2</th>\n",
       "      <td>chr1</td>\n",
       "      <td>904654</td>\n",
       "      <td>3</td>\n",
       "      <td>49.838430</td>\n",
       "      <td>1.669419e-12</td>\n",
       "      <td>1.982642e-06</td>\n",
       "    </tr>\n",
       "    <tr>\n",
       "      <th>3</th>\n",
       "      <td>chr1</td>\n",
       "      <td>907237</td>\n",
       "      <td>1</td>\n",
       "      <td>193.027823</td>\n",
       "      <td>6.941438e-44</td>\n",
       "      <td>8.243819e-38</td>\n",
       "    </tr>\n",
       "    <tr>\n",
       "      <th>4</th>\n",
       "      <td>chr1</td>\n",
       "      <td>907539</td>\n",
       "      <td>1</td>\n",
       "      <td>281.932787</td>\n",
       "      <td>2.847170e-63</td>\n",
       "      <td>3.381368e-57</td>\n",
       "    </tr>\n",
       "    <tr>\n",
       "      <th>...</th>\n",
       "      <td>...</td>\n",
       "      <td>...</td>\n",
       "      <td>...</td>\n",
       "      <td>...</td>\n",
       "      <td>...</td>\n",
       "      <td>...</td>\n",
       "    </tr>\n",
       "    <tr>\n",
       "      <th>1187619</th>\n",
       "      <td>chr22</td>\n",
       "      <td>50710846</td>\n",
       "      <td>2</td>\n",
       "      <td>1.412975</td>\n",
       "      <td>2.345632e-01</td>\n",
       "      <td>1.000000e+00</td>\n",
       "    </tr>\n",
       "    <tr>\n",
       "      <th>1187620</th>\n",
       "      <td>chr22</td>\n",
       "      <td>50732781</td>\n",
       "      <td>1</td>\n",
       "      <td>1.412131</td>\n",
       "      <td>2.347030e-01</td>\n",
       "      <td>1.000000e+00</td>\n",
       "    </tr>\n",
       "    <tr>\n",
       "      <th>1187621</th>\n",
       "      <td>chr22</td>\n",
       "      <td>50733151</td>\n",
       "      <td>3</td>\n",
       "      <td>2.127935</td>\n",
       "      <td>1.446355e-01</td>\n",
       "      <td>1.000000e+00</td>\n",
       "    </tr>\n",
       "    <tr>\n",
       "      <th>1187622</th>\n",
       "      <td>chr22</td>\n",
       "      <td>50735036</td>\n",
       "      <td>1</td>\n",
       "      <td>53.938783</td>\n",
       "      <td>2.068344e-13</td>\n",
       "      <td>2.456415e-07</td>\n",
       "    </tr>\n",
       "    <tr>\n",
       "      <th>1187623</th>\n",
       "      <td>chr22</td>\n",
       "      <td>50736117</td>\n",
       "      <td>1</td>\n",
       "      <td>150.350718</td>\n",
       "      <td>1.453121e-34</td>\n",
       "      <td>1.725761e-28</td>\n",
       "    </tr>\n",
       "  </tbody>\n",
       "</table>\n",
       "<p>1187624 rows × 6 columns</p>\n",
       "</div>"
      ],
      "text/plain": [
       "           chr  position  motif_len  kruskal_statistic  kruskal_pval  \\\n",
       "0         chr1    899025          1          11.974592  5.393089e-04   \n",
       "1         chr1    902774          1         330.273090  8.381236e-74   \n",
       "2         chr1    904654          3          49.838430  1.669419e-12   \n",
       "3         chr1    907237          1         193.027823  6.941438e-44   \n",
       "4         chr1    907539          1         281.932787  2.847170e-63   \n",
       "...        ...       ...        ...                ...           ...   \n",
       "1187619  chr22  50710846          2           1.412975  2.345632e-01   \n",
       "1187620  chr22  50732781          1           1.412131  2.347030e-01   \n",
       "1187621  chr22  50733151          3           2.127935  1.446355e-01   \n",
       "1187622  chr22  50735036          1          53.938783  2.068344e-13   \n",
       "1187623  chr22  50736117          1         150.350718  1.453121e-34   \n",
       "\n",
       "         kruskal_pval_bonf  \n",
       "0             1.000000e+00  \n",
       "1             9.953757e-68  \n",
       "2             1.982642e-06  \n",
       "3             8.243819e-38  \n",
       "4             3.381368e-57  \n",
       "...                    ...  \n",
       "1187619       1.000000e+00  \n",
       "1187620       1.000000e+00  \n",
       "1187621       1.000000e+00  \n",
       "1187622       2.456415e-07  \n",
       "1187623       1.725761e-28  \n",
       "\n",
       "[1187624 rows x 6 columns]"
      ]
     },
     "execution_count": 2,
     "metadata": {},
     "output_type": "execute_result"
    }
   ],
   "source": [
    "results_path = os.path.join('computed_stats', 'kruskal_AFR_EUR.csv')\n",
    "\n",
    "# Load data\n",
    "results = pd.read_csv(results_path)\n",
    "results = results.drop(columns = ['Unnamed: 0'])\n",
    "\n",
    "# Drop STRs where all populations had the same repeat count\n",
    "results = results.dropna().reset_index(drop=True)\n",
    "\n",
    "# Correct p-values\n",
    "results['kruskal_pval_bonf'] = results.kruskal_pval * len(results)\n",
    "results['kruskal_pval_bonf'].where(results['kruskal_pval_bonf'] < 1, 1, inplace=True) #Replace p-values larger than 1\n",
    "results"
   ]
  },
  {
   "cell_type": "code",
   "execution_count": 5,
   "metadata": {},
   "outputs": [
    {
     "name": "stderr",
     "output_type": "stream",
     "text": [
      "100%|██████████| 22/22 [04:48<00:00, 13.13s/it]\n"
     ]
    }
   ],
   "source": [
    "def analyse_freqs(freqs):\n",
    "    if freqs == \".\":\n",
    "        return np.nan, np.nan, np.nan\n",
    "    freqs = freqs.split(\",\")\n",
    "    freqs = [freq.split(\":\") for freq in freqs]\n",
    "    allele_len = []\n",
    "    for freq in freqs:\n",
    "        if float(freq[1]) > 0.01:\n",
    "            allele_len.append(len(freq[0]))\n",
    "    \n",
    "    if len(allele_len) == 0:\n",
    "        return np.nan, np.nan, np.nan\n",
    "    return np.mean(allele_len), np.max(allele_len), np.min(allele_len)\n",
    "\n",
    "\n",
    "dir_addr = \"/expanse/projects/gymreklab/helia/ensembl/experiments/charact/diff_dist/heterozygosity\"\n",
    "AFR_df = pd.DataFrame(columns = ['chrom','start', 'end', 'afreq-1', 'mean', 'max', 'min'])\n",
    "EUR_df = pd.DataFrame(columns = ['chrom','start', 'end', 'afreq-1', 'mean', 'max', 'min'])\n",
    "for chrom in tqdm(range(1,23)):\n",
    "    AFR_het = pd.read_csv(f'{dir_addr}/coding_het_AFR_{chrom}.tab', sep = \"\\t\") \n",
    "    AFR_het = AFR_het.drop(columns = ['mean-1'])\n",
    "    AFR_het[['mean', 'max', 'min']] = AFR_het.apply(lambda row: analyse_freqs(row['afreq-1'])\n",
    "                                                    , axis=1, result_type=\"expand\")\n",
    "    \n",
    "    EUR_het = pd.read_csv(f'{dir_addr}/coding_het_EUR_{chrom}.tab', sep = \"\\t\") \n",
    "    EUR_het = EUR_het.drop(columns = ['mean-1'])\n",
    "    EUR_het[['mean', 'max', 'min']] = EUR_het.apply(lambda row: analyse_freqs(row['afreq-1'])\n",
    "                                                    , axis=1, result_type=\"expand\")\n",
    "    \n",
    "    \n",
    "    AFR_df = pd.concat([AFR_df, AFR_het])    \n",
    "    EUR_df = pd.concat([EUR_df, EUR_het])"
   ]
  },
  {
   "cell_type": "code",
   "execution_count": 8,
   "metadata": {},
   "outputs": [],
   "source": [
    "both_pop = pd.merge(AFR_df, EUR_df, on = [\"chrom\",'start','end'], suffixes = [\"_AFR\", \"_EUR\"])\n",
    "both_pop = pd.merge(both_pop, results, left_on = ['chrom', 'start'], right_on = ['chr', 'position'])\n",
    "both_pop['mean_dif'] = (both_pop['mean_AFR'] - both_pop['mean_EUR']) / both_pop['motif_len']\n",
    "both_pop['max_dif'] = (both_pop['max_AFR'] - both_pop['max_EUR']) / both_pop['motif_len']\n",
    "both_pop['min_dif'] = (both_pop['min_AFR'] - both_pop['min_EUR']) / both_pop['motif_len']\n",
    "\n",
    "both_pop = both_pop.dropna()"
   ]
  },
  {
   "cell_type": "code",
   "execution_count": 29,
   "metadata": {},
   "outputs": [
    {
     "name": "stderr",
     "output_type": "stream",
     "text": [
      "/cm/shared/apps/spack/gpu/opt/spack/linux-centos8-skylake_avx512/gcc-8.3.1/anaconda3-2020.11-bsn4npoxyw7jzz7fajncek3bvdoaa5wv/lib/python3.8/site-packages/pandas/core/series.py:726: RuntimeWarning: divide by zero encountered in log10\n",
      "  result = getattr(ufunc, method)(*inputs, **kwargs)\n",
      "/cm/shared/apps/spack/gpu/opt/spack/linux-centos8-skylake_avx512/gcc-8.3.1/anaconda3-2020.11-bsn4npoxyw7jzz7fajncek3bvdoaa5wv/lib/python3.8/site-packages/pandas/core/series.py:726: RuntimeWarning: divide by zero encountered in log10\n",
      "  result = getattr(ufunc, method)(*inputs, **kwargs)\n",
      "/cm/shared/apps/spack/gpu/opt/spack/linux-centos8-skylake_avx512/gcc-8.3.1/anaconda3-2020.11-bsn4npoxyw7jzz7fajncek3bvdoaa5wv/lib/python3.8/site-packages/pandas/core/series.py:726: RuntimeWarning: divide by zero encountered in log10\n",
      "  result = getattr(ufunc, method)(*inputs, **kwargs)\n"
     ]
    }
   ],
   "source": [
    "visuz.GeneExpression.volcano(df=both_pop, lfc='max_dif', pv='kruskal_pval_bonf', axxlabel=\"Max(AFR) - Max(EUR)\", figname=f\"plots/max_dif\", r = 700)\n",
    "visuz.GeneExpression.volcano(df=both_pop, lfc='min_dif', pv='kruskal_pval_bonf', axxlabel=\"Min(AFR) - Min(EUR)\", figname=f\"plots/min_dif\", r = 700)\n",
    "visuz.GeneExpression.volcano(df=both_pop, lfc='mean_dif', pv='kruskal_pval_bonf', axxlabel=\"Mean(AFR) - Mean(EUR)\", figname=f\"plots/mean_dif\", r = 700)\n"
   ]
  },
  {
   "cell_type": "code",
   "execution_count": 58,
   "metadata": {},
   "outputs": [
    {
     "data": {
      "image/png": "[encoded data removed]",
      "text/plain": [
       "<Figure size 416.5x360 with 1 Axes>"
      ]
     },
     "metadata": {
      "needs_background": "light"
     },
     "output_type": "display_data"
    }
   ],
   "source": [
    "## Mean Histograms\n",
    "\n",
    "def mean_histogram(input_df):\n",
    "    \n",
    "    input_df = input_df[input_df['mean_dif'].abs() > 1]\n",
    "\n",
    "    EUR = pd.DataFrame(input_df['mean_EUR'] / input_df['motif_len'])\n",
    "    EUR['pop'] = \"EUR\"\n",
    "\n",
    "    AFR = pd.DataFrame(input_df['mean_AFR'] / input_df['motif_len'])\n",
    "    AFR['pop'] = \"AFR\"\n",
    "\n",
    "    both_mean = pd.concat([EUR,AFR])\n",
    "    both_mean.columns = ['mean', 'pop']\n",
    "    sns.displot(\n",
    "        data=both_mean,\n",
    "        x='mean',\n",
    "        hue='pop',\n",
    "        kind=\"kde\",\n",
    "        log_scale=True\n",
    "    )\n",
    "\n",
    "mean_histogram(both_pop)"
   ]
  },
  {
   "cell_type": "code",
   "execution_count": 57,
   "metadata": {},
   "outputs": [
    {
     "name": "stderr",
     "output_type": "stream",
     "text": [
      "/cm/shared/apps/spack/gpu/opt/spack/linux-centos8-skylake_avx512/gcc-8.3.1/anaconda3-2020.11-bsn4npoxyw7jzz7fajncek3bvdoaa5wv/lib/python3.8/site-packages/pandas/core/series.py:726: RuntimeWarning: divide by zero encountered in log10\n",
      "  result = getattr(ufunc, method)(*inputs, **kwargs)\n"
     ]
    },
    {
     "data": {
      "image/png": "[encoded data removed]",
      "text/plain": [
       "<Figure size 360x360 with 1 Axes>"
      ]
     },
     "metadata": {
      "needs_background": "light"
     },
     "output_type": "display_data"
    }
   ],
   "source": [
    "## Coding regions\n",
    "\n",
    "coding_TRs = pd.read_csv(\"../stats/coding_overlap/TR_intersect.txt\", sep = \"\\t\", header=None)\n",
    "coding_diff = pd.merge(both_pop, coding_TRs, left_on = [\"chr\",\"position\"], right_on=[0,1])\n",
    "visuz.GeneExpression.volcano(df=coding_diff, lfc='mean_dif', pv='kruskal_pval_bonf', axxlabel=\"Mean(AFR) - Mean(EUR)\", show=True)\n",
    "\n"
   ]
  },
  {
   "cell_type": "code",
   "execution_count": null,
   "metadata": {},
   "outputs": [],
   "source": []
  }
 ],
 "metadata": {
  "kernelspec": {
   "display_name": "Python 3",
   "language": "python",
   "name": "python3"
  },
  "language_info": {
   "codemirror_mode": {
    "name": "ipython",
    "version": 3
   },
   "file_extension": ".py",
   "mimetype": "text/x-python",
   "name": "python",
   "nbconvert_exporter": "python",
   "pygments_lexer": "ipython3",
   "version": "3.8.5"
  }
 },
 "nbformat": 4,
 "nbformat_minor": 4
}
