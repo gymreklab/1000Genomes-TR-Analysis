{
 "cells": [
  {
   "cell_type": "code",
   "execution_count": 1,
   "metadata": {},
   "outputs": [],
   "source": [
    "from collections import defaultdict\n",
    "import numpy as np\n",
    "from cyvcf2 import VCF"
   ]
  },
  {
   "cell_type": "code",
   "execution_count": 11,
   "metadata": {},
   "outputs": [],
   "source": [
    "one_nr_per_sample_coding = defaultdict(int)\n",
    "both_nr_per_sample_coding = defaultdict(int)\n",
    "\n",
    "for i in range(1,23):\n",
    "    vcf_addr = \"/gymreklab-tscc/helia/ensembl/experiments/coding_regions/heterozygosity/coding_calls_\" + str(i) + \".vcf.gz\"\n",
    "    vcf = VCF(vcf_addr)\n",
    "    samples = vcf.samples\n",
    "    for record in vcf:\n",
    "        genotypes = record.genotypes\n",
    "        for i in range(len(samples)):\n",
    "            sample = samples[i]\n",
    "            genotype = genotypes[i]\n",
    "            if genotype[0] != -1 and (genotype[0] != 0 or genotype[1] != 0):\n",
    "                one_nr_per_sample_coding[sample] += 1\n",
    "                \n",
    "            if genotype[0] != -1 and (genotype[0] != 0 and genotype[1] != 0):\n",
    "                both_nr_per_sample_coding[sample] += 1"
   ]
  },
  {
   "cell_type": "code",
   "execution_count": 12,
   "metadata": {},
   "outputs": [
    {
     "data": {
      "text/plain": [
       "381.815427857589"
      ]
     },
     "execution_count": 12,
     "metadata": {},
     "output_type": "execute_result"
    }
   ],
   "source": [
    "np.mean(list(one_nr_per_sample_coding.values()))"
   ]
  },
  {
   "cell_type": "code",
   "execution_count": null,
   "metadata": {},
   "outputs": [
    {
     "name": "stdout",
     "output_type": "stream",
     "text": [
      "1\n"
     ]
    }
   ],
   "source": [
    "one_nr_per_sample_whole = defaultdict(int)\n",
    "both_nr_per_sample_whole = defaultdict(int)\n",
    "\n",
    "for i in range(1,23):\n",
    "    print(i)\n",
    "    vcf_addr = f\"/gymreklab-tscc/helia/ensembl/ensemble_out/merged_chr{i}_sorted_ver2.vcf.gz\"\n",
    "    vcf = VCF(vcf_addr)\n",
    "    samples = vcf.samples\n",
    "    for record in vcf:\n",
    "        genotypes = record.genotypes\n",
    "        for i in range(len(samples)):\n",
    "            sample = samples[i]\n",
    "            genotype = genotypes[i]\n",
    "            if genotype[0] != -1 and (genotype[0] != 0 or genotype[1] != 0):\n",
    "                one_nr_per_sample_whole[sample] += 1\n",
    "                \n",
    "            if genotype[0] != -1 and (genotype[0] != 0 and genotype[1] != 0):\n",
    "                both_nr_per_sample_whole[sample] += 1"
   ]
  },
  {
   "cell_type": "code",
   "execution_count": null,
   "metadata": {},
   "outputs": [],
   "source": []
  }
 ],
 "metadata": {
  "kernelspec": {
   "display_name": "Python 3",
   "language": "python",
   "name": "python3"
  },
  "language_info": {
   "codemirror_mode": {
    "name": "ipython",
    "version": 3
   },
   "file_extension": ".py",
   "mimetype": "text/x-python",
   "name": "python",
   "nbconvert_exporter": "python",
   "pygments_lexer": "ipython3",
   "version": "3.6.8"
  }
 },
 "nbformat": 4,
 "nbformat_minor": 4
}
