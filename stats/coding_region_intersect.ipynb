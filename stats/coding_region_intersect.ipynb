{
 "cells": [
  {
   "cell_type": "code",
   "execution_count": 1,
   "metadata": {},
   "outputs": [],
   "source": [
    "import pandas as pd"
   ]
  },
  {
   "cell_type": "code",
   "execution_count": 2,
   "metadata": {},
   "outputs": [],
   "source": [
    "# Read Coding coordinates\n",
    "gene_regions = pd.read_csv(\"/gymreklab-tscc/helia/ensembl/experiments/coding_regions/coding_regions_sorted_corrected.bed\", \n",
    "                           sep=\"\\t\", header=None)\n",
    "gene_regions.columns = ['chrom', 'start', 'end', 'name', 'x', 'strand']\n",
    "\n",
    "# Read TR coordinates\n",
    "TR_regions = pd.read_csv(\"/gymreklab-tscc/helia/ensembl/experiments/coding_regions/all_TR_coordinates.bed\",\n",
    "                         sep=\"\\t\", header=None)\n",
    "TR_regions.columns = ['chrom', 'start', 'end']"
   ]
  },
  {
   "cell_type": "code",
   "execution_count": 3,
   "metadata": {},
   "outputs": [],
   "source": [
    "def create_input(chrom):\n",
    "    gene_chrom = gene_regions[gene_regions['chrom'] == chrom]\n",
    "    gene_chrom = gene_chrom.drop_duplicates(subset = ['chrom', 'start', 'end'])\n",
    "    \n",
    "    TR_chrom = TR_regions[TR_regions['chrom'] == chrom]\n",
    "    TR_chrom = TR_chrom.drop_duplicates(subset = ['chrom', 'start', 'end'])\n",
    "    \n",
    "    with open(f\"inputs/input_{chrom}.txt\", \"w\") as f:\n",
    "        f.write(f\"{len(gene_chrom)} {len(TR_chrom)}\")\n",
    "        f.write(\"\\n\")\n",
    "        for index,row in gene_chrom.iterrows():\n",
    "            f.write(f\"{row['start']} {row['end']}\")\n",
    "            f.write(\"\\n\")\n",
    "            \n",
    "        for index,row in TR_chrom.iterrows():\n",
    "            f.write(f\"{row['start']} {row['end']}\")\n",
    "            f.write(\"\\n\")  "
   ]
  },
  {
   "cell_type": "code",
   "execution_count": 13,
   "metadata": {},
   "outputs": [],
   "source": [
    "#### Writing TR and coding regions to input file ####\n",
    "for chrom in range(1,23):\n",
    "    create_input(f\"chr{chrom}\")   "
   ]
  },
  {
   "cell_type": "code",
   "execution_count": 4,
   "metadata": {},
   "outputs": [],
   "source": [
    "#### calling overlap_finder.cpp to find overlap and write them to output ####\n",
    "for chrom in range(1,23):\n",
    "    input_addr = f\"inputs/input_chr{chrom}.txt\"\n",
    "    output_addr = f\"inputs/overlap_chr{chrom}.txt\"\n",
    "    !g++ overlap_finder.cpp --std c++11\n",
    "    !./a.out < $input_addr > $output_addr\n",
    "    "
   ]
  },
  {
   "cell_type": "code",
   "execution_count": null,
   "metadata": {},
   "outputs": [],
   "source": [
    "for chrom in range(1,23):\n",
    "    "
   ]
  }
 ],
 "metadata": {
  "kernelspec": {
   "display_name": "Python 3",
   "language": "python",
   "name": "python3"
  },
  "language_info": {
   "codemirror_mode": {
    "name": "ipython",
    "version": 3
   },
   "file_extension": ".py",
   "mimetype": "text/x-python",
   "name": "python",
   "nbconvert_exporter": "python",
   "pygments_lexer": "ipython3",
   "version": "3.6.8"
  }
 },
 "nbformat": 4,
 "nbformat_minor": 4
}
