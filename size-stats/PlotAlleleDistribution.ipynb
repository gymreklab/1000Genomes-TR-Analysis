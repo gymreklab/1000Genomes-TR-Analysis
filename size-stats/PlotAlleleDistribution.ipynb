{
 "cells": [
  {
   "cell_type": "code",
   "execution_count": 75,
   "metadata": {},
   "outputs": [
    {
     "name": "stdout",
     "output_type": "stream",
     "text": [
      "Populating the interactive namespace from numpy and matplotlib\n"
     ]
    }
   ],
   "source": [
    "%pylab inline\n",
    "\n",
    "import matplotlib\n",
    "matplotlib.rcParams['pdf.fonttype'] = 42\n",
    "matplotlib.rcParams['ps.fonttype'] = 42\n",
    "import pandas as pd\n",
    "\n",
    "# TODO - figure out how to pass this info to the bash cell below\n",
    "#CHROM=\"1\"\n",
    "#START=77887912\n",
    "#PERIOD=3\n",
    "\n",
    "#CHROM=\"17\"\n",
    "#START=51831667\n",
    "#PERIOD=3\n",
    "\n",
    "#CHROM=\"1\"\n",
    "#START=214679905\n",
    "#PERIOD=3\n",
    "\n",
    "#CHROM=\"11\"\n",
    "#START=126065034\n",
    "#PERIOD=16\n",
    "\n",
    "CHROM=\"9\"\n",
    "START=110676343\n",
    "PERIOD=7\n"
   ]
  },
  {
   "cell_type": "code",
   "execution_count": 76,
   "metadata": {},
   "outputs": [
    {
     "name": "stdout",
     "output_type": "stream",
     "text": [
      "\n",
      "Done\n"
     ]
    }
   ],
   "source": [
    "%%bash \n",
    "\n",
    "#CHROM=\"1\"\n",
    "#START=77887912\n",
    "\n",
    "#CHROM=\"17\"\n",
    "#START=51831667\n",
    "\n",
    "#CHROM=\"1\"\n",
    "#START=214679905\n",
    "\n",
    "#CHROM=\"11\"\n",
    "#START=126065034\n",
    "\n",
    "CHROM=\"9\"\n",
    "START=110676343\n",
    "\n",
    "# Run statstr on this region only\n",
    "DATADIR=/gymreklab-tscc/helia/ensembl/ensemble_out\n",
    "\n",
    "statSTR \\\n",
    "    --vcf ${DATADIR}/ensemble_chr${CHROM}_filtered.vcf.gz \\\n",
    "    --vcftype hipstr \\\n",
    "    --afreq --use-length \\\n",
    "    --region chr${CHROM}:${START}-${START} \\\n",
    "    --samples ../het-stats/EUR_samples.txt,../het-stats/EAS_samples.txt,../het-stats/SAS_samples.txt,../het-stats/AMR_samples.txt,../het-stats/AFR_samples.txt,../het-stats/h3africa_samples.txt \\\n",
    "    --sample-prefixes EUR,EAS,SAS,AMR,AFR,H3A \\\n",
    "    --out chr${CHROM}.${START}.stats"
   ]
  },
  {
   "cell_type": "code",
   "execution_count": 77,
   "metadata": {},
   "outputs": [
    {
     "data": {
      "image/png": "[encoded data removed]",
      "text/plain": [
       "<Figure size 576x576 with 6 Axes>"
      ]
     },
     "metadata": {
      "needs_background": "light"
     },
     "output_type": "display_data"
    }
   ],
   "source": [
    "MAXVAL = 60 # change per locus\n",
    "\n",
    "def GetRowColors(spop):\n",
    "    if \"EUR\" in spop: return \"blue\"\n",
    "    if \"AFR\" in spop: return \"gold\"\n",
    "    if \"AMR\" in spop: return \"red\"\n",
    "    if \"EAS\" in spop: return \"green\"\n",
    "    if \"SAS\" in spop: return \"purple\"\n",
    "    if \"H3\" in spop: return \"gray\"\n",
    "    \n",
    "data = pd.read_csv(\"chr%s.%s.stats.tab\"%(CHROM, START), sep=\"\\t\")\n",
    "if data.shape[0] != 1:\n",
    "    assert(\"Need to find exactly one locus!\")\n",
    "\n",
    "fig = plt.figure()\n",
    "fig.set_size_inches((8, 8))\n",
    "popnum = 0\n",
    "w = 0.15\n",
    "for pop in [\"EUR\",\"EAS\",\"SAS\",\"AMR\",\"AFR\",\"H3A\"]:\n",
    "    ax = fig.add_subplot(6, 1, popnum+1)\n",
    "    vals = data[\"afreq-%s\"%pop].values[0]\n",
    "    xvals = []\n",
    "    yvals = []\n",
    "    for ainfo in vals.split(\",\"):\n",
    "        allele, freq = ainfo.split(\":\")\n",
    "        allele = int(float(allele))\n",
    "        freq = float(freq)\n",
    "        xvals.append(allele)\n",
    "        yvals.append(freq)\n",
    "    ax.bar(xvals, yvals, color=GetRowColors(pop), edgecolor=\"black\", label=pop, width=1)\n",
    "    ax.legend(loc=\"upper right\")\n",
    "    popnum += 1\n",
    "    ax.set_xlim(left=0, right=MAXVAL)\n",
    "#ax.legend(loc=\"upper right\");\n",
    "#ax.set_xlabel(\"Allele length\")\n",
    "#ax.set_ylabel(\"Frequency\");\n",
    "fig.savefig(\"%s_%s.commonexp.pdf\"%(CHROM, START))\n",
    "fig.tight_layout()"
   ]
  },
  {
   "cell_type": "code",
   "execution_count": 78,
   "metadata": {},
   "outputs": [
    {
     "data": {
      "text/html": [
       "<div>\n",
       "<style scoped>\n",
       "    .dataframe tbody tr th:only-of-type {\n",
       "        vertical-align: middle;\n",
       "    }\n",
       "\n",
       "    .dataframe tbody tr th {\n",
       "        vertical-align: top;\n",
       "    }\n",
       "\n",
       "    .dataframe thead th {\n",
       "        text-align: right;\n",
       "    }\n",
       "</style>\n",
       "<table border=\"1\" class=\"dataframe\">\n",
       "  <thead>\n",
       "    <tr style=\"text-align: right;\">\n",
       "      <th></th>\n",
       "      <th>chrom</th>\n",
       "      <th>start</th>\n",
       "      <th>end</th>\n",
       "      <th>afreq-EUR</th>\n",
       "      <th>afreq-EAS</th>\n",
       "      <th>afreq-SAS</th>\n",
       "      <th>afreq-AMR</th>\n",
       "      <th>afreq-AFR</th>\n",
       "      <th>afreq-H3A</th>\n",
       "    </tr>\n",
       "  </thead>\n",
       "  <tbody>\n",
       "    <tr>\n",
       "      <td>0</td>\n",
       "      <td>chr9</td>\n",
       "      <td>110676343</td>\n",
       "      <td>110676364</td>\n",
       "      <td>2.142857142857143:0.002,3.0:0.588,4.1428571428...</td>\n",
       "      <td>3.0:0.687,4.142857142857143:0.002,5.1428571428...</td>\n",
       "      <td>3.0:0.653,4.142857142857143:0.006,5.1428571428...</td>\n",
       "      <td>2.142857142857143:0.004,3.0:0.685,4.1428571428...</td>\n",
       "      <td>2.142857142857143:0.029,3.0:0.219,4.1428571428...</td>\n",
       "      <td>2.142857142857143:0.017,3.0:0.240,4.1428571428...</td>\n",
       "    </tr>\n",
       "  </tbody>\n",
       "</table>\n",
       "</div>"
      ],
      "text/plain": [
       "  chrom      start        end  \\\n",
       "0  chr9  110676343  110676364   \n",
       "\n",
       "                                           afreq-EUR  \\\n",
       "0  2.142857142857143:0.002,3.0:0.588,4.1428571428...   \n",
       "\n",
       "                                           afreq-EAS  \\\n",
       "0  3.0:0.687,4.142857142857143:0.002,5.1428571428...   \n",
       "\n",
       "                                           afreq-SAS  \\\n",
       "0  3.0:0.653,4.142857142857143:0.006,5.1428571428...   \n",
       "\n",
       "                                           afreq-AMR  \\\n",
       "0  2.142857142857143:0.004,3.0:0.685,4.1428571428...   \n",
       "\n",
       "                                           afreq-AFR  \\\n",
       "0  2.142857142857143:0.029,3.0:0.219,4.1428571428...   \n",
       "\n",
       "                                           afreq-H3A  \n",
       "0  2.142857142857143:0.017,3.0:0.240,4.1428571428...  "
      ]
     },
     "execution_count": 78,
     "metadata": {},
     "output_type": "execute_result"
    }
   ],
   "source": [
    "data"
   ]
  }
 ],
 "metadata": {
  "kernelspec": {
   "display_name": "Python 3",
   "language": "python",
   "name": "python3"
  },
  "language_info": {
   "codemirror_mode": {
    "name": "ipython",
    "version": 3
   },
   "file_extension": ".py",
   "mimetype": "text/x-python",
   "name": "python",
   "nbconvert_exporter": "python",
   "pygments_lexer": "ipython3",
   "version": "3.8.5"
  }
 },
 "nbformat": 4,
 "nbformat_minor": 4
}
