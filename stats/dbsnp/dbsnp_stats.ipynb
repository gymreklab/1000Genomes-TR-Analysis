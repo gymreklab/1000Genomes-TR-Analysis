{
 "cells": [
  {
   "cell_type": "code",
   "execution_count": 2,
   "metadata": {},
   "outputs": [],
   "source": [
    "import pandas as pd\n",
    "import numpy as np"
   ]
  },
  {
   "cell_type": "code",
   "execution_count": 12,
   "metadata": {},
   "outputs": [],
   "source": [
    "def load_outputs(db_name):\n",
    "    overlaps = []\n",
    "    pure_indels = []\n",
    "    n_snps_per_repeat_all = []\n",
    "    for chrom in range(1,23):\n",
    "        all_overlaps = pd.read_csv(f\"{db_name}_outputs/chr{chrom}_overlap.tab\", sep = \"\\t\")\n",
    "        pure_repeat_indel = pd.read_csv(f\"{db_name}_outputs/chr{chrom}_pure_repeat_indel.tab\", sep = \"\\t\")\n",
    "\n",
    "        all_overlaps.columns = ['ref_start','ref','str_info','snp_pos','snp_ref','snp_alt']\n",
    "        pure_repeat_indel.columns = ['ref_start','ref','str_info','snp_pos','snp_ref','snp_alt']\n",
    "\n",
    "        n_snps_per_repeat = list(all_overlaps.groupby(\"str_info\").count()['ref_start'])\n",
    "        n_snps_per_repeat_all.extend(n_snps_per_repeat)\n",
    "\n",
    "        overlaps.extend(list(all_overlaps['str_info'].unique()))\n",
    "        pure_indels.extend(list(pure_repeat_indel['str_info'].unique()))\n",
    "        \n",
    "    return np.mean(n_snps_per_repeat_all), len(overlaps), len(pure_indels)"
   ]
  },
  {
   "cell_type": "code",
   "execution_count": 13,
   "metadata": {},
   "outputs": [
    {
     "data": {
      "text/plain": [
       "(24.518301967626805, 1701593, 1476533)"
      ]
     },
     "execution_count": 13,
     "metadata": {},
     "output_type": "execute_result"
    }
   ],
   "source": [
    "load_outputs(\"dbsnp\")"
   ]
  },
  {
   "cell_type": "code",
   "execution_count": 14,
   "metadata": {},
   "outputs": [
    {
     "data": {
      "text/plain": [
       "(22.377745454545455, 1663750, 1388335)"
      ]
     },
     "execution_count": 14,
     "metadata": {},
     "output_type": "execute_result"
    }
   ],
   "source": [
    "load_outputs(\"gnomad\")"
   ]
  },
  {
   "cell_type": "code",
   "execution_count": 4,
   "metadata": {},
   "outputs": [
    {
     "data": {
      "text/html": [
       "<div>\n",
       "<style scoped>\n",
       "    .dataframe tbody tr th:only-of-type {\n",
       "        vertical-align: middle;\n",
       "    }\n",
       "\n",
       "    .dataframe tbody tr th {\n",
       "        vertical-align: top;\n",
       "    }\n",
       "\n",
       "    .dataframe thead th {\n",
       "        text-align: right;\n",
       "    }\n",
       "</style>\n",
       "<table border=\"1\" class=\"dataframe\">\n",
       "  <thead>\n",
       "    <tr style=\"text-align: right;\">\n",
       "      <th></th>\n",
       "      <th>ref_start</th>\n",
       "      <th>ref</th>\n",
       "      <th>[str_pos, repeat_unit/period]</th>\n",
       "      <th>snp_pos</th>\n",
       "      <th>snp_ref</th>\n",
       "      <th>snp_alt</th>\n",
       "    </tr>\n",
       "  </thead>\n",
       "  <tbody>\n",
       "    <tr>\n",
       "      <th>0</th>\n",
       "      <td>8993151</td>\n",
       "      <td>TTTTCccttttctttCTTTCTGCCATTC</td>\n",
       "      <td>(8993159, 'CTTT')</td>\n",
       "      <td>8993156</td>\n",
       "      <td>CCTTTTCTTT</td>\n",
       "      <td>C</td>\n",
       "    </tr>\n",
       "    <tr>\n",
       "      <th>1</th>\n",
       "      <td>8993151</td>\n",
       "      <td>TTTTCCctTTTCTTTCTTTCTGCCATTC</td>\n",
       "      <td>(8993159, 'CTTT')</td>\n",
       "      <td>8993157</td>\n",
       "      <td>CT</td>\n",
       "      <td>C</td>\n",
       "    </tr>\n",
       "    <tr>\n",
       "      <th>2</th>\n",
       "      <td>8993151</td>\n",
       "      <td>TTTTCCCttttcTTTCTTTCTGCCATTC</td>\n",
       "      <td>(8993159, 'CTTT')</td>\n",
       "      <td>8993158</td>\n",
       "      <td>TTTTC</td>\n",
       "      <td>T</td>\n",
       "    </tr>\n",
       "    <tr>\n",
       "      <th>3</th>\n",
       "      <td>8993151</td>\n",
       "      <td>TTTTCCCTTttctttctttctgCCATTC</td>\n",
       "      <td>(8993159, 'CTTT')</td>\n",
       "      <td>8993160</td>\n",
       "      <td>TTCTTTCTTTCTG</td>\n",
       "      <td>TCTT</td>\n",
       "    </tr>\n",
       "    <tr>\n",
       "      <th>4</th>\n",
       "      <td>8993151</td>\n",
       "      <td>TTTTCCCTTTtCTTTCTTTCTGCCATTC</td>\n",
       "      <td>(8993159, 'CTTT')</td>\n",
       "      <td>8993161</td>\n",
       "      <td>T</td>\n",
       "      <td>C</td>\n",
       "    </tr>\n",
       "    <tr>\n",
       "      <th>...</th>\n",
       "      <td>...</td>\n",
       "      <td>...</td>\n",
       "      <td>...</td>\n",
       "      <td>...</td>\n",
       "      <td>...</td>\n",
       "      <td>...</td>\n",
       "    </tr>\n",
       "    <tr>\n",
       "      <th>521647</th>\n",
       "      <td>46672631</td>\n",
       "      <td>CTCAAAAAAAaAAAATTT</td>\n",
       "      <td>(46672634, 'A')</td>\n",
       "      <td>46672641</td>\n",
       "      <td>A</td>\n",
       "      <td>G</td>\n",
       "    </tr>\n",
       "    <tr>\n",
       "      <th>521648</th>\n",
       "      <td>46672631</td>\n",
       "      <td>CTCAAAAAAAAAaAATTT</td>\n",
       "      <td>(46672634, 'A')</td>\n",
       "      <td>46672643</td>\n",
       "      <td>A</td>\n",
       "      <td>C</td>\n",
       "    </tr>\n",
       "    <tr>\n",
       "      <th>521649</th>\n",
       "      <td>46672631</td>\n",
       "      <td>CTCAAAAAAAAAAAaTTT</td>\n",
       "      <td>(46672634, 'A')</td>\n",
       "      <td>46672645</td>\n",
       "      <td>A</td>\n",
       "      <td>C</td>\n",
       "    </tr>\n",
       "    <tr>\n",
       "      <th>521650</th>\n",
       "      <td>46672631</td>\n",
       "      <td>CTCAAAAAAAAAAAaTTT</td>\n",
       "      <td>(46672634, 'A')</td>\n",
       "      <td>46672645</td>\n",
       "      <td>A</td>\n",
       "      <td>T</td>\n",
       "    </tr>\n",
       "    <tr>\n",
       "      <th>521651</th>\n",
       "      <td>46672631</td>\n",
       "      <td>CTCAAAAAAAAAAAAtTT</td>\n",
       "      <td>(46672634, 'A')</td>\n",
       "      <td>46672646</td>\n",
       "      <td>T</td>\n",
       "      <td>A</td>\n",
       "    </tr>\n",
       "  </tbody>\n",
       "</table>\n",
       "<p>521652 rows × 6 columns</p>\n",
       "</div>"
      ],
      "text/plain": [
       "        ref_start                           ref [str_pos, repeat_unit/period]  \\\n",
       "0         8993151  TTTTCccttttctttCTTTCTGCCATTC             (8993159, 'CTTT')   \n",
       "1         8993151  TTTTCCctTTTCTTTCTTTCTGCCATTC             (8993159, 'CTTT')   \n",
       "2         8993151  TTTTCCCttttcTTTCTTTCTGCCATTC             (8993159, 'CTTT')   \n",
       "3         8993151  TTTTCCCTTttctttctttctgCCATTC             (8993159, 'CTTT')   \n",
       "4         8993151  TTTTCCCTTTtCTTTCTTTCTGCCATTC             (8993159, 'CTTT')   \n",
       "...           ...                           ...                           ...   \n",
       "521647   46672631            CTCAAAAAAAaAAAATTT               (46672634, 'A')   \n",
       "521648   46672631            CTCAAAAAAAAAaAATTT               (46672634, 'A')   \n",
       "521649   46672631            CTCAAAAAAAAAAAaTTT               (46672634, 'A')   \n",
       "521650   46672631            CTCAAAAAAAAAAAaTTT               (46672634, 'A')   \n",
       "521651   46672631            CTCAAAAAAAAAAAAtTT               (46672634, 'A')   \n",
       "\n",
       "         snp_pos        snp_ref snp_alt  \n",
       "0        8993156     CCTTTTCTTT       C  \n",
       "1        8993157             CT       C  \n",
       "2        8993158          TTTTC       T  \n",
       "3        8993160  TTCTTTCTTTCTG    TCTT  \n",
       "4        8993161              T       C  \n",
       "...          ...            ...     ...  \n",
       "521647  46672641              A       G  \n",
       "521648  46672643              A       C  \n",
       "521649  46672645              A       C  \n",
       "521650  46672645              A       T  \n",
       "521651  46672646              T       A  \n",
       "\n",
       "[521652 rows x 6 columns]"
      ]
     },
     "execution_count": 4,
     "metadata": {},
     "output_type": "execute_result"
    }
   ],
   "source": [
    "pd.read_csv(f\"dbsnp_outputs/chr21_overlap.tab\", sep = \"\\t\")"
   ]
  },
  {
   "cell_type": "code",
   "execution_count": null,
   "metadata": {},
   "outputs": [],
   "source": []
  }
 ],
 "metadata": {
  "kernelspec": {
   "display_name": "Python 3",
   "language": "python",
   "name": "python3"
  },
  "language_info": {
   "codemirror_mode": {
    "name": "ipython",
    "version": 3
   },
   "file_extension": ".py",
   "mimetype": "text/x-python",
   "name": "python",
   "nbconvert_exporter": "python",
   "pygments_lexer": "ipython3",
   "version": "3.8.5"
  }
 },
 "nbformat": 4,
 "nbformat_minor": 4
}
