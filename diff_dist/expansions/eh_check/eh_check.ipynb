{
 "cells": [
  {
   "cell_type": "code",
   "execution_count": 2,
   "metadata": {},
   "outputs": [],
   "source": [
    "import pandas as pd\n",
    "from collections import defaultdict\n",
    "import numpy as np"
   ]
  },
  {
   "cell_type": "code",
   "execution_count": 24,
   "metadata": {},
   "outputs": [],
   "source": [
    "pedigree = pd.read_csv(\"/expanse/projects/gymreklab/helia/TR_1000G/1000G.ped\", delim_whitespace=True)\n",
    "H3Africa_names = pd.read_csv(\"/expanse/projects/gymreklab/helia/H3Africa/names/H3A_Baylor_sample_country.txt\", header=None, delim_whitespace=True)\n",
    "pedigree = pedigree[['SampleID','Superpopulation', 'Population']]\n",
    "samp_to_pop = pd.Series(pedigree.Superpopulation.values,index=pedigree.SampleID).to_dict()\n",
    "samp_to_pop_afr = pd.Series(pedigree.Population.values,index=pedigree.SampleID).to_dict()\n",
    "\n",
    "for index,row in H3Africa_names.iterrows():\n",
    "    samp_to_pop[row[0]] = \"H3Africa\"\n",
    "\n",
    "for index,row in H3Africa_names.iterrows():\n",
    "    samp_to_pop_afr[row[0]] = row[1]\n",
    "\n",
    "for samp in samp_to_pop:\n",
    "    if samp_to_pop[samp] == \"H3Africa\" or samp_to_pop[samp] == \"AFR\":\n",
    "        samp_to_pop[samp] = \"AFR\"\n",
    "    else:\n",
    "        samp_to_pop[samp] = \"NON_AFR\"\n",
    "        \n",
    "pops = ['AFR', 'NON_AFR']\n"
   ]
  },
  {
   "cell_type": "code",
   "execution_count": 26,
   "metadata": {},
   "outputs": [],
   "source": [
    "def find_outlier(row):\n",
    "    cn_dif = defaultdict(list)\n",
    "    pop_n_outliar = []\n",
    "    for pop in pops:\n",
    "        pop_data = list(row[pop])\n",
    "        for gbs in pop_data:\n",
    "            if gbs != \".\":\n",
    "                cn_dif[pop].extend([int(x) for x in gbs.split(\"/\")])\n",
    "\n",
    "    ### Define outlier\n",
    "    all_cns = cn_dif[pops[0]] + cn_dif[pops[1]]\n",
    "    Q1 = np.percentile(all_cns, 25, interpolation = 'midpoint')\n",
    "    Q3 = np.percentile(all_cns, 75,  interpolation = 'midpoint')\n",
    "    IQR = Q3 - Q1\n",
    "    strong_outlier_threshold = Q3 +3*IQR\n",
    "\n",
    "    for pop in pops:\n",
    "        pop_n_outliar.append(len([x for x in cn_dif[pop] if x > strong_outlier_threshold]) / len(cn_dif[pop]))\n",
    "\n",
    "    return strong_outlier_threshold, pop_n_outliar[0], pop_n_outliar[1]"
   ]
  },
  {
   "cell_type": "code",
   "execution_count": 30,
   "metadata": {},
   "outputs": [],
   "source": [
    "def read_file(gene_name, samp_to_pop_dict):\n",
    "    header = []\n",
    "    with open(f\"{gene_name}_diff.txt\") as f:\n",
    "        for line in f:\n",
    "            if line.startswith(\"chr\"):\n",
    "                    f.close()\n",
    "                    break\n",
    "            header.append(line.strip())\n",
    "\n",
    "\n",
    "    header_pop = [samp_to_pop_dict[x] for x in header]\n",
    "    header_pop = [\"CHROM\", \"POS\", \"MOTIF\"] + header_pop\n",
    "\n",
    "\n",
    "    df = pd.read_csv(f\"{gene_name}_diff.txt\", skiprows=3550, sep = \"\\t\", header = None)\n",
    "    df = df.drop(3553, axis = 1)\n",
    "    df.columns = header_pop\n",
    "\n",
    "\n",
    "    return df"
   ]
  },
  {
   "cell_type": "code",
   "execution_count": 29,
   "metadata": {},
   "outputs": [],
   "source": [
    "def freq_per_afr_pop(df, threshold):\n",
    "    \n",
    "    dict_pop = {}\n",
    "    pops_afr = AFR_pops = ['Benin','Botswana','Burkina_Faso-Ghana','Cameroon_24', 'Cameroon_26', 'Mali','Nigeria','Zambia'] + \\\n",
    "           [\"LWK\",\"MSL\",\"YRI\",\"ESN\",\"GWD\"]\n",
    "    for pop in pops_afr:\n",
    "        cn_dif = []\n",
    "        df_pop = list(df[pop].iloc[0])\n",
    "        for gbs in df_pop:\n",
    "            if gbs != \".\":\n",
    "                cn_dif.extend([int(x) for x in gbs.split(\"/\")])\n",
    "                \n",
    "        dict_pop[pop] = len([x for x in cn_dif if x > threshold]) / len(cn_dif)\n",
    "    \n",
    "    return dict_pop\n",
    "    "
   ]
  },
  {
   "cell_type": "code",
   "execution_count": 34,
   "metadata": {},
   "outputs": [
    {
     "name": "stdout",
     "output_type": "stream",
     "text": [
      "threshold, AFR frequency, Non-AFR frequency: [(90.0, 0.02135374697824335, 0.004343850022862369)]\n"
     ]
    },
    {
     "data": {
      "text/plain": [
       "{'Benin': 0.0,\n",
       " 'Botswana': 0.010416666666666666,\n",
       " 'Burkina_Faso-Ghana': 0.016666666666666666,\n",
       " 'Cameroon_24': 0.020833333333333332,\n",
       " 'Cameroon_26': 0.0,\n",
       " 'Mali': 0.07,\n",
       " 'Nigeria': 0.01020408163265306,\n",
       " 'Zambia': 0.024390243902439025,\n",
       " 'LWK': 0.015151515151515152,\n",
       " 'MSL': 0.020202020202020204,\n",
       " 'YRI': 0.019662921348314606,\n",
       " 'ESN': 0.03355704697986577,\n",
       " 'GWD': 0.025280898876404494}"
      ]
     },
     "metadata": {},
     "output_type": "display_data"
    }
   ],
   "source": [
    "ca10 = read_file(\"ca10\", samp_to_pop)\n",
    "ca10_out = ca10.apply(lambda row: find_outlier(row), axis = 1)\n",
    "print(\"threshold, AFR frequency, Non-AFR frequency:\", list(ca10_out))\n",
    "ca10 = read_file(\"ca10\", samp_to_pop_afr)\n",
    "display(freq_per_afr_pop(ca10, 90))"
   ]
  },
  {
   "cell_type": "code",
   "execution_count": 37,
   "metadata": {},
   "outputs": [
    {
     "name": "stdout",
     "output_type": "stream",
     "text": [
      "threshold, AFR frequency, Non-AFR frequency: [(81.0, 0.1095890410958904, 0.014508445214378518)]\n"
     ]
    },
    {
     "data": {
      "text/plain": [
       "{'Benin': 0.2,\n",
       " 'Botswana': 0.08333333333333333,\n",
       " 'Burkina_Faso-Ghana': 0.09166666666666666,\n",
       " 'Cameroon_24': 0.08333333333333333,\n",
       " 'Cameroon_26': 0.17307692307692307,\n",
       " 'Mali': 0.09,\n",
       " 'Nigeria': 0.08163265306122448,\n",
       " 'Zambia': 0.06097560975609756,\n",
       " 'LWK': 0.13131313131313133,\n",
       " 'MSL': 0.06565656565656566,\n",
       " 'YRI': 0.14887640449438203,\n",
       " 'ESN': 0.1174496644295302,\n",
       " 'GWD': 0.11235955056179775}"
      ]
     },
     "metadata": {},
     "output_type": "display_data"
    }
   ],
   "source": [
    "nexn = read_file(\"nexn\", samp_to_pop)\n",
    "nexn_out = nexn.apply(lambda row: find_outlier(row), axis = 1)\n",
    "print(\"threshold, AFR frequency, Non-AFR frequency:\", list(nexn_out))\n",
    "nexn = read_file(\"nexn\", samp_to_pop_afr)\n",
    "display(freq_per_afr_pop(nexn, 81))"
   ]
  },
  {
   "cell_type": "code",
   "execution_count": null,
   "metadata": {},
   "outputs": [],
   "source": []
  }
 ],
 "metadata": {
  "kernelspec": {
   "display_name": "Python 3",
   "language": "python",
   "name": "python3"
  },
  "language_info": {
   "codemirror_mode": {
    "name": "ipython",
    "version": 3
   },
   "file_extension": ".py",
   "mimetype": "text/x-python",
   "name": "python",
   "nbconvert_exporter": "python",
   "pygments_lexer": "ipython3",
   "version": "3.8.5"
  }
 },
 "nbformat": 4,
 "nbformat_minor": 4
}
