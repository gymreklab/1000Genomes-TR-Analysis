{
 "cells": [
  {
   "cell_type": "code",
   "execution_count": 1,
   "metadata": {},
   "outputs": [],
   "source": [
    "import pandas as pd"
   ]
  },
  {
   "cell_type": "code",
   "execution_count": 14,
   "metadata": {},
   "outputs": [],
   "source": [
    "names = pd.read_csv(\"1000G_2504_high_coverage.sequence.index\", sep = \"\\t\", skiprows=23)\n",
    "names = names[['SAMPLE_NAME', 'POPULATION']]\n",
    "\n",
    "pedigree = pd.read_csv(\"/expanse/projects/gymreklab/helia/TR_1000G/1000G.ped\", delim_whitespace=True)\n",
    "pedigree = pedigree[['SampleID','Superpopulation', 'Population']]\n",
    "\n",
    "names = pd.merge(names, pedigree, left_on = ['SAMPLE_NAME', 'POPULATION'], \n",
    "                 right_on = ['SampleID', 'Population'])[['SampleID','Superpopulation','Population']]\n",
    "\n",
    "for pop in set(list(names['Superpopulation'])):\n",
    "    with open(f\"{pop}_names.txt\", 'w') as f:\n",
    "        pop_names = names[names['Superpopulation'] == pop]\n",
    "        random_samples = set(list(pop_names.sample(n=100)['SampleID']))\n",
    "        assert(len(random_samples) == 100)\n",
    "        f.write(\"\\n\".join(list(random_samples)))\n",
    "\n",
    "\n"
   ]
  },
  {
   "cell_type": "code",
   "execution_count": null,
   "metadata": {},
   "outputs": [],
   "source": []
  }
 ],
 "metadata": {
  "kernelspec": {
   "display_name": "Python 3",
   "language": "python",
   "name": "python3"
  },
  "language_info": {
   "codemirror_mode": {
    "name": "ipython",
    "version": 3
   },
   "file_extension": ".py",
   "mimetype": "text/x-python",
   "name": "python",
   "nbconvert_exporter": "python",
   "pygments_lexer": "ipython3",
   "version": "3.8.5"
  }
 },
 "nbformat": 4,
 "nbformat_minor": 4
}
