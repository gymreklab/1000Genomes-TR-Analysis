{
 "cells": [
  {
   "cell_type": "code",
   "execution_count": 1,
   "metadata": {},
   "outputs": [],
   "source": [
    "import pandas as pd"
   ]
  },
  {
   "cell_type": "code",
   "execution_count": 4,
   "metadata": {},
   "outputs": [
    {
     "name": "stdout",
     "output_type": "stream",
     "text": [
      "Fraction of homopolymers: 0.41485096709954133\n"
     ]
    }
   ],
   "source": [
    "motifs = pd.read_csv(\"../het-stats/motif_info.tab\", sep=\"\\t\", names=[\"chrom\", \"start\",\"period\",\"motif\"])\n",
    "print(f\"Fraction of homopolymers: {len(motifs[motifs['period'] == 1]) / len(motifs)}\")"
   ]
  },
  {
   "cell_type": "code",
   "execution_count": 6,
   "metadata": {},
   "outputs": [
    {
     "name": "stdout",
     "output_type": "stream",
     "text": [
      "Fraction of homopolymers: 0.0066882374866786476\n"
     ]
    }
   ],
   "source": [
    "# def detect_GC(motif):\n",
    "#     if \"A\" in motif or \"T\" in motif:\n",
    "#         return False\n",
    "#     return True\n",
    "# motifs['GC'] = motifs.apply(lambda x: detect_GC(x['motif']), axis = 1)\n",
    "print(f\"Fraction of homopolymers: {len(motifs[motifs['GC'] == True]) / len(motifs)}\")"
   ]
  },
  {
   "cell_type": "code",
   "execution_count": null,
   "metadata": {},
   "outputs": [],
   "source": []
  }
 ],
 "metadata": {
  "kernelspec": {
   "display_name": "Python 3",
   "language": "python",
   "name": "python3"
  },
  "language_info": {
   "codemirror_mode": {
    "name": "ipython",
    "version": 3
   },
   "file_extension": ".py",
   "mimetype": "text/x-python",
   "name": "python",
   "nbconvert_exporter": "python",
   "pygments_lexer": "ipython3",
   "version": "3.8.5"
  }
 },
 "nbformat": 4,
 "nbformat_minor": 4
}
