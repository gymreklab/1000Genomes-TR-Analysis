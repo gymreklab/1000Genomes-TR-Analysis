{
 "cells": [
  {
   "cell_type": "code",
   "execution_count": 28,
   "metadata": {},
   "outputs": [],
   "source": [
    "import pandas as pd\n",
    "import matplotlib.pyplot as plt"
   ]
  },
  {
   "cell_type": "code",
   "execution_count": 8,
   "metadata": {},
   "outputs": [],
   "source": [
    "##### Reading allele frequencies for whole genome #####\n",
    "whole_genome_df = pd.DataFrame(columns = ['chrom','start','end','afreq'])\n",
    "for i in range(1,23):\n",
    "    df = pd.read_csv(\"/gymreklab-tscc/helia/ensembl/experiments/allele_freq/freqs/all_freqs_chr\" + str(i) + \".tab\", sep=\"\\t\")\n",
    "    df = df[['chrom','start','end','afreq']]\n",
    "    df['afreq'] = df['afreq'].str.split(\",\").str.len()\n",
    "    whole_genome_df = whole_genome_df.append(df, ignore_index=True)\n",
    "\n",
    "whole_genome_df = whole_genome_df.drop_duplicates(keep=\"first\", subset=['chrom','start'])"
   ]
  },
  {
   "cell_type": "code",
   "execution_count": 27,
   "metadata": {},
   "outputs": [],
   "source": [
    "##### Subsetting allele frequencing for overlap with coding regions #####\n",
    "\n",
    "coding_regions = pd.read_csv(\"/gymreklab-tscc/helia/ensembl/experiments/coding_regions/intersect.txt\",sep=\"\\t\", header=None)\n",
    "coding_regions.columns = ['chrom','start','end']\n",
    "coding_regions_df = pd.merge(coding_regions, whole_genome_df, on = ['chrom','start'], how='left')"
   ]
  },
  {
   "cell_type": "code",
   "execution_count": 55,
   "metadata": {},
   "outputs": [
    {
     "data": {
      "image/png": "[encoded data removed]",
      "text/plain": [
       "<Figure size 720x504 with 1 Axes>"
      ]
     },
     "metadata": {
      "needs_background": "light"
     },
     "output_type": "display_data"
    }
   ],
   "source": [
    "max_range = 40\n",
    "plt.figure(figsize=(10,7))\n",
    "plt.hist(coding_regions_df['afreq'], bins=max_range, density=True, \\\n",
    "         range = (0,max_range), alpha = 0.5, edgecolor = \"black\", color='firebrick', label=\"Coding regions\")\n",
    "plt.hist(whole_genome_df['afreq'], bins=max_range, density = True, \\\n",
    "         range = (0,max_range), alpha = 0.5, edgecolor = \"black\", color='darkblue', label = \"Whole genome\" )\n",
    "plt.xlabel(\"# of common alleles\")\n",
    "plt.ylabel(\"Fraction of calls\")\n",
    "plt.legend()\n",
    "plt.savefig(\"../plots/coding_polymorphism.pdf\", dpi=1200, format='pdf')"
   ]
  },
  {
   "cell_type": "code",
   "execution_count": null,
   "metadata": {},
   "outputs": [],
   "source": []
  }
 ],
 "metadata": {
  "kernelspec": {
   "display_name": "Python 3",
   "language": "python",
   "name": "python3"
  },
  "language_info": {
   "codemirror_mode": {
    "name": "ipython",
    "version": 3
   },
   "file_extension": ".py",
   "mimetype": "text/x-python",
   "name": "python",
   "nbconvert_exporter": "python",
   "pygments_lexer": "ipython3",
   "version": "3.6.8"
  }
 },
 "nbformat": 4,
 "nbformat_minor": 4
}
