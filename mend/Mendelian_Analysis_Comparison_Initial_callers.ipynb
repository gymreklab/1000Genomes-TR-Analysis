{
 "cells": [
  {
   "cell_type": "code",
   "execution_count": 4,
   "metadata": {},
   "outputs": [],
   "source": [
    "import matplotlib.pyplot as plt\n",
    "import matplotlib\n",
    "matplotlib.rcParams['pdf.fonttype'] = 42\n",
    "matplotlib.rcParams['ps.fonttype'] = 42\n",
    "import numpy as np\n",
    "import os\n",
    "import pandas as pd\n",
    "import re\n",
    "from collections import defaultdict"
   ]
  },
  {
   "cell_type": "code",
   "execution_count": 2,
   "metadata": {},
   "outputs": [
    {
     "data": {
      "text/html": [
       "<div>\n",
       "<style scoped>\n",
       "    .dataframe tbody tr th:only-of-type {\n",
       "        vertical-align: middle;\n",
       "    }\n",
       "\n",
       "    .dataframe tbody tr th {\n",
       "        vertical-align: top;\n",
       "    }\n",
       "\n",
       "    .dataframe thead th {\n",
       "        text-align: right;\n",
       "    }\n",
       "</style>\n",
       "<table border=\"1\" class=\"dataframe\">\n",
       "  <thead>\n",
       "    <tr style=\"text-align: right;\">\n",
       "      <th></th>\n",
       "      <th>chrom</th>\n",
       "      <th>pos</th>\n",
       "      <th>motif</th>\n",
       "      <th>sample</th>\n",
       "      <th>MI</th>\n",
       "      <th>Score</th>\n",
       "      <th>gbs</th>\n",
       "      <th>method</th>\n",
       "      <th>raw_calls</th>\n",
       "      <th>allele_support</th>\n",
       "    </tr>\n",
       "  </thead>\n",
       "  <tbody>\n",
       "    <tr>\n",
       "      <th>0</th>\n",
       "      <td>chr1</td>\n",
       "      <td>899025</td>\n",
       "      <td>A</td>\n",
       "      <td>HG00405</td>\n",
       "      <td>True</td>\n",
       "      <td>1.00</td>\n",
       "      <td>1/0,1/0,1/0</td>\n",
       "      <td>0|0|1|1</td>\n",
       "      <td>hipstr=23.0,24.0|gangstr=21.0,22.0;hipstr=23.0...</td>\n",
       "      <td>0|0|1|1,0|0|1|1,0|0|1|1</td>\n",
       "    </tr>\n",
       "    <tr>\n",
       "      <th>1</th>\n",
       "      <td>chr1</td>\n",
       "      <td>899025</td>\n",
       "      <td>A</td>\n",
       "      <td>HG00408</td>\n",
       "      <td>True</td>\n",
       "      <td>0.55</td>\n",
       "      <td>0/0,1/0,1/0</td>\n",
       "      <td>0|0|1|1</td>\n",
       "      <td>hipstr=23.0,23.0|gangstr=20.0,21.0;hipstr=23.0...</td>\n",
       "      <td>0|0|1|0,0|0|1|1,0|0|1|1</td>\n",
       "    </tr>\n",
       "    <tr>\n",
       "      <th>2</th>\n",
       "      <td>chr1</td>\n",
       "      <td>899025</td>\n",
       "      <td>A</td>\n",
       "      <td>HG00423</td>\n",
       "      <td>True</td>\n",
       "      <td>1.00</td>\n",
       "      <td>0/0,1/0,0/0</td>\n",
       "      <td>0|0|1|1</td>\n",
       "      <td>hipstr=23.0,23.0|gangstr=21.0,21.0;hipstr=23.0...</td>\n",
       "      <td>0|0|1|1,0|0|1|1,0|0|1|1</td>\n",
       "    </tr>\n",
       "    <tr>\n",
       "      <th>3</th>\n",
       "      <td>chr1</td>\n",
       "      <td>899025</td>\n",
       "      <td>A</td>\n",
       "      <td>HG00438</td>\n",
       "      <td>True</td>\n",
       "      <td>1.00</td>\n",
       "      <td>1/0,1/0,0/0</td>\n",
       "      <td>0|0|1|1</td>\n",
       "      <td>hipstr=23.0,24.0|gangstr=21.0,22.0;hipstr=23.0...</td>\n",
       "      <td>0|0|1|1,0|0|1|1,0|0|1|1</td>\n",
       "    </tr>\n",
       "    <tr>\n",
       "      <th>4</th>\n",
       "      <td>chr1</td>\n",
       "      <td>899025</td>\n",
       "      <td>A</td>\n",
       "      <td>HG00450</td>\n",
       "      <td>True</td>\n",
       "      <td>1.00</td>\n",
       "      <td>1/0,0/0,1/0</td>\n",
       "      <td>0|0|1|1</td>\n",
       "      <td>hipstr=23.0,24.0|gangstr=21.0,22.0;hipstr=23.0...</td>\n",
       "      <td>0|0|1|1,0|0|1|1,0|0|1|1</td>\n",
       "    </tr>\n",
       "    <tr>\n",
       "      <th>...</th>\n",
       "      <td>...</td>\n",
       "      <td>...</td>\n",
       "      <td>...</td>\n",
       "      <td>...</td>\n",
       "      <td>...</td>\n",
       "      <td>...</td>\n",
       "      <td>...</td>\n",
       "      <td>...</td>\n",
       "      <td>...</td>\n",
       "      <td>...</td>\n",
       "    </tr>\n",
       "    <tr>\n",
       "      <th>31585950</th>\n",
       "      <td>chr1</td>\n",
       "      <td>248916402</td>\n",
       "      <td>A</td>\n",
       "      <td>HG03825</td>\n",
       "      <td>True</td>\n",
       "      <td>1.00</td>\n",
       "      <td>0/0,0/0,0/-1</td>\n",
       "      <td>0|0|1|0</td>\n",
       "      <td>hipstr=11.0,11.0;hipstr=11.0,11.0;hipstr=11.0,...</td>\n",
       "      <td>0|0|1|0,0|0|1|0,0|0|1|0</td>\n",
       "    </tr>\n",
       "    <tr>\n",
       "      <th>31585951</th>\n",
       "      <td>chr1</td>\n",
       "      <td>248916402</td>\n",
       "      <td>A</td>\n",
       "      <td>HG04157</td>\n",
       "      <td>True</td>\n",
       "      <td>1.00</td>\n",
       "      <td>0/0,0/-1,0/0</td>\n",
       "      <td>0|0|1|0</td>\n",
       "      <td>hipstr=11.0,11.0;hipstr=11.0,10.0;hipstr=11.0,...</td>\n",
       "      <td>0|0|1|0,0|0|1|0,0|0|1|0</td>\n",
       "    </tr>\n",
       "    <tr>\n",
       "      <th>31585952</th>\n",
       "      <td>chr1</td>\n",
       "      <td>248916402</td>\n",
       "      <td>A</td>\n",
       "      <td>NA12801</td>\n",
       "      <td>True</td>\n",
       "      <td>1.00</td>\n",
       "      <td>0/0,0/0,0/-1</td>\n",
       "      <td>0|0|1|0</td>\n",
       "      <td>hipstr=11.0,11.0;hipstr=11.0,11.0;hipstr=11.0,...</td>\n",
       "      <td>0|0|1|0,0|0|1|0,0|0|1|0</td>\n",
       "    </tr>\n",
       "    <tr>\n",
       "      <th>31585953</th>\n",
       "      <td>chr1</td>\n",
       "      <td>248916402</td>\n",
       "      <td>A</td>\n",
       "      <td>NA12802</td>\n",
       "      <td>True</td>\n",
       "      <td>1.00</td>\n",
       "      <td>0/-1,0/-1,0/0</td>\n",
       "      <td>0|0|1|0</td>\n",
       "      <td>hipstr=11.0,10.0;hipstr=11.0,10.0;hipstr=11.0,...</td>\n",
       "      <td>0|0|1|0,0|0|1|0,0|0|1|0</td>\n",
       "    </tr>\n",
       "    <tr>\n",
       "      <th>31585954</th>\n",
       "      <td>chr1</td>\n",
       "      <td>248916402</td>\n",
       "      <td>A</td>\n",
       "      <td>NA12817</td>\n",
       "      <td>True</td>\n",
       "      <td>1.00</td>\n",
       "      <td>0/-1,0/0,0/-1</td>\n",
       "      <td>0|0|1|0</td>\n",
       "      <td>hipstr=11.0,10.0;hipstr=11.0,11.0;hipstr=11.0,...</td>\n",
       "      <td>0|0|1|0,0|0|1|0,0|0|1|0</td>\n",
       "    </tr>\n",
       "  </tbody>\n",
       "</table>\n",
       "<p>31585955 rows × 10 columns</p>\n",
       "</div>"
      ],
      "text/plain": [
       "         chrom        pos motif   sample    MI  Score            gbs   method  \\\n",
       "0         chr1     899025     A  HG00405  True   1.00    1/0,1/0,1/0  0|0|1|1   \n",
       "1         chr1     899025     A  HG00408  True   0.55    0/0,1/0,1/0  0|0|1|1   \n",
       "2         chr1     899025     A  HG00423  True   1.00    0/0,1/0,0/0  0|0|1|1   \n",
       "3         chr1     899025     A  HG00438  True   1.00    1/0,1/0,0/0  0|0|1|1   \n",
       "4         chr1     899025     A  HG00450  True   1.00    1/0,0/0,1/0  0|0|1|1   \n",
       "...        ...        ...   ...      ...   ...    ...            ...      ...   \n",
       "31585950  chr1  248916402     A  HG03825  True   1.00   0/0,0/0,0/-1  0|0|1|0   \n",
       "31585951  chr1  248916402     A  HG04157  True   1.00   0/0,0/-1,0/0  0|0|1|0   \n",
       "31585952  chr1  248916402     A  NA12801  True   1.00   0/0,0/0,0/-1  0|0|1|0   \n",
       "31585953  chr1  248916402     A  NA12802  True   1.00  0/-1,0/-1,0/0  0|0|1|0   \n",
       "31585954  chr1  248916402     A  NA12817  True   1.00  0/-1,0/0,0/-1  0|0|1|0   \n",
       "\n",
       "                                                  raw_calls  \\\n",
       "0         hipstr=23.0,24.0|gangstr=21.0,22.0;hipstr=23.0...   \n",
       "1         hipstr=23.0,23.0|gangstr=20.0,21.0;hipstr=23.0...   \n",
       "2         hipstr=23.0,23.0|gangstr=21.0,21.0;hipstr=23.0...   \n",
       "3         hipstr=23.0,24.0|gangstr=21.0,22.0;hipstr=23.0...   \n",
       "4         hipstr=23.0,24.0|gangstr=21.0,22.0;hipstr=23.0...   \n",
       "...                                                     ...   \n",
       "31585950  hipstr=11.0,11.0;hipstr=11.0,11.0;hipstr=11.0,...   \n",
       "31585951  hipstr=11.0,11.0;hipstr=11.0,10.0;hipstr=11.0,...   \n",
       "31585952  hipstr=11.0,11.0;hipstr=11.0,11.0;hipstr=11.0,...   \n",
       "31585953  hipstr=11.0,10.0;hipstr=11.0,10.0;hipstr=11.0,...   \n",
       "31585954  hipstr=11.0,10.0;hipstr=11.0,11.0;hipstr=11.0,...   \n",
       "\n",
       "                   allele_support  \n",
       "0         0|0|1|1,0|0|1|1,0|0|1|1  \n",
       "1         0|0|1|0,0|0|1|1,0|0|1|1  \n",
       "2         0|0|1|1,0|0|1|1,0|0|1|1  \n",
       "3         0|0|1|1,0|0|1|1,0|0|1|1  \n",
       "4         0|0|1|1,0|0|1|1,0|0|1|1  \n",
       "...                           ...  \n",
       "31585950  0|0|1|0,0|0|1|0,0|0|1|0  \n",
       "31585951  0|0|1|0,0|0|1|0,0|0|1|0  \n",
       "31585952  0|0|1|0,0|0|1|0,0|0|1|0  \n",
       "31585953  0|0|1|0,0|0|1|0,0|0|1|0  \n",
       "31585954  0|0|1|0,0|0|1|0,0|0|1|0  \n",
       "\n",
       "[31585955 rows x 10 columns]"
      ]
     },
     "execution_count": 2,
     "metadata": {},
     "output_type": "execute_result"
    }
   ],
   "source": [
    "######### Load data of Mendelian Inheritance #######\n",
    "path = f\"/expanse/projects/gymreklab/helia/ensembl/1000Genomes-TR-Analysis/mend/result/mend_gt_chr1_extra_info_r2.tab\"\n",
    "data = pd.read_csv(path, sep=\"\\t\", \n",
    "    names=[\"chrom\",\"pos\",\"motif\",\"sample\",\"MI\",\"Score\",\"gbs\", \"method\", \"raw_calls\", \"allele_support\"])\n",
    "data"
   ]
  },
  {
   "cell_type": "code",
   "execution_count": 3,
   "metadata": {},
   "outputs": [
    {
     "name": "stderr",
     "output_type": "stream",
     "text": [
      "<ipython-input-3-570987bb0bc6>:8: SettingWithCopyWarning: \n",
      "A value is trying to be set on a copy of a slice from a DataFrame.\n",
      "Try using .loc[row_indexer,col_indexer] = value instead\n",
      "\n",
      "See the caveats in the documentation: https://pandas.pydata.org/pandas-docs/stable/user_guide/indexing.html#returning-a-view-versus-a-copy\n",
      "  called_by_at_least_two['conflict'] = called_by_at_least_two.apply(lambda row: check_conflict(row['allele_support'],\n"
     ]
    }
   ],
   "source": [
    "####### Select calls that are genotyped by at least two callers, and those callers have conflict ######\n",
    "def check_conflict(allele_supports, method):\n",
    "    allele_supports = allele_supports.split(\",\")\n",
    "    for a_s in allele_supports:\n",
    "        if a_s != method:\n",
    "            return True\n",
    "    return False\n",
    "called_by_at_least_two = data[~data['method'].isin([\"0|0|1|0\", \"0|0|0|1\", \"1|0|0|0\", \"0|1|0|0\"])]\n",
    "called_by_at_least_two['conflict'] = called_by_at_least_two.apply(lambda row: check_conflict(row['allele_support'], \n",
    "                                                                                 row['method']), axis = 1)\n",
    "conflict = called_by_at_least_two[called_by_at_least_two['conflict'] == True]"
   ]
  },
  {
   "cell_type": "code",
   "execution_count": 10,
   "metadata": {},
   "outputs": [
    {
     "name": "stderr",
     "output_type": "stream",
     "text": [
      "<ipython-input-10-409b1340e75c>:26: SettingWithCopyWarning: \n",
      "A value is trying to be set on a copy of a slice from a DataFrame.\n",
      "Try using .loc[row_indexer,col_indexer] = value instead\n",
      "\n",
      "See the caveats in the documentation: https://pandas.pydata.org/pandas-docs/stable/user_guide/indexing.html#returning-a-view-versus-a-copy\n",
      "  called_by_at_least_two['raw_mend'] = called_by_at_least_two.apply(lambda x: analyse_raw_calls_mendelian(x['raw_calls']), axis = 1)\n"
     ]
    }
   ],
   "source": [
    "######## Calculate the Mendelian consistenct of initial callers #########\n",
    "def compute_mendelian(calls):\n",
    "    if np.nan in calls:\n",
    "        return np.nan\n",
    "    else:\n",
    "        sample, mother, father = calls\n",
    "        if (sample[0] in mother and sample[1] in father) or (sample[0] in father and sample[1] in mother):\n",
    "            return True\n",
    "        return False\n",
    "def analyse_raw_calls_mendelian(raw_calls):\n",
    "    raw_calls = raw_calls.split(\";\")\n",
    "    callers = defaultdict(list)\n",
    "    for raw_call in raw_calls:\n",
    "        raw_call = raw_call.split(\"|\")\n",
    "        for pair in raw_call:\n",
    "            caller, call = pair.split(\"=\")\n",
    "            if call == \".\":\n",
    "                callers[caller].append(np.nan)\n",
    "            else:\n",
    "                callers[caller].append(call.split(\",\"))\n",
    "    mendelian_consistency = {}\n",
    "    for key in callers:\n",
    "        mendelian_consistency[key] = compute_mendelian(callers[key])\n",
    "    return mendelian_consistency\n",
    "\n",
    "called_by_at_least_two['raw_mend'] = called_by_at_least_two.apply(lambda x: analyse_raw_calls_mendelian(x['raw_calls']), axis = 1)"
   ]
  },
  {
   "cell_type": "code",
   "execution_count": 11,
   "metadata": {},
   "outputs": [
    {
     "name": "stderr",
     "output_type": "stream",
     "text": [
      "<ipython-input-11-82913459aa67>:10: SettingWithCopyWarning: \n",
      "A value is trying to be set on a copy of a slice from a DataFrame.\n",
      "Try using .loc[row_indexer,col_indexer] = value instead\n",
      "\n",
      "See the caveats in the documentation: https://pandas.pydata.org/pandas-docs/stable/user_guide/indexing.html#returning-a-view-versus-a-copy\n",
      "  called_by_at_least_two['gbs_MI'] = called_by_at_least_two.apply(lambda x: gbs_MI(x['gbs']), axis = 1)\n"
     ]
    }
   ],
   "source": [
    "###### Calculate the length consistency on EnsembleTR results ######\n",
    "def gbs_MI(gbs):\n",
    "    sample, mom, dad = gbs.split(\",\")\n",
    "    sample = sample.split(\"/\")\n",
    "    mom = mom.split(\"/\")\n",
    "    dad = dad.split(\"/\")\n",
    "    if (sample[0] in mom and sample[1] in dad) or (sample[1] in mom and sample[0] in dad):\n",
    "        return True\n",
    "    return False\n",
    "called_by_at_least_two['gbs_MI'] = called_by_at_least_two.apply(lambda x: gbs_MI(x['gbs']), axis = 1)"
   ]
  },
  {
   "cell_type": "code",
   "execution_count": 14,
   "metadata": {},
   "outputs": [],
   "source": [
    "######### Analyze mendelian consistency in combinations of tools ########\n",
    "def check(raw, caller1, caller2, caller3 = None):\n",
    "    if caller3:\n",
    "        if len(raw.keys()) == 3 and caller1 in raw.keys() and caller3 in raw.keys() and caller2 in raw.keys() and ~np.isnan(raw[caller1]) and ~np.isnan(raw[caller2]) and ~np.isnan(raw[caller3]):\n",
    "            return True\n",
    "        else:\n",
    "            return False\n",
    "    else:\n",
    "        if len(raw.keys()) == 2 and caller1 in raw.keys() and caller2 in raw.keys() and ~np.isnan(raw[caller1]) and ~np.isnan(raw[caller2]):\n",
    "            return True\n",
    "    return False\n",
    "\n",
    "def analyse_combinations(caller1, caller2, caller3 = None):\n",
    "    mutual_calls = called_by_at_least_two[called_by_at_least_two.apply(lambda x: check(x['raw_mend'], caller1, caller2, caller3), axis = 1)]    \n",
    "    \n",
    "    Ensemble_true = len(mutual_calls[mutual_calls['gbs_MI'] == True])/ len(mutual_calls)\n",
    "    caller1_true = len(mutual_calls[mutual_calls['raw_mend'].apply(lambda x: (x.get(caller1) == True))])/ len(mutual_calls)\n",
    "    caller2_true = len(mutual_calls[mutual_calls['raw_mend'].apply(lambda x: (x.get(caller2) == True))])/ len(mutual_calls)\n",
    "    caller3_true = None\n",
    "    \n",
    "    if caller3:\n",
    "        caller3_true = len(mutual_calls[mutual_calls['raw_mend'].apply(lambda x: (x.get(caller3) == True))])/ len(mutual_calls)\n",
    "    return [len(mutual_calls), Ensemble_true, caller1_true, caller2_true, caller3_true]\n"
   ]
  },
  {
   "cell_type": "code",
   "execution_count": 17,
   "metadata": {},
   "outputs": [
    {
     "name": "stdout",
     "output_type": "stream",
     "text": [
      "['hipstr', 'gangstr']\n",
      "[15250413, 0.9931508740123955, 0.9915409503991793, 0.9813119159461452, None]\n",
      "['hipstr', 'eh']\n",
      "[385536, 0.995722837815405, 0.9959899983399735, 0.9894847692563081, None]\n",
      "['eh', 'gangstr']\n",
      "[76117, 0.9660522616498286, 0.9859821064939501, 0.9465559599038322, None]\n",
      "['hipstr', 'gangstr', 'eh']\n",
      "[1009758, 0.9959019883972199, 0.9959584375662287, 0.9818055415257914, 0.993241945099717]\n"
     ]
    }
   ],
   "source": [
    "combinations = [['hipstr', 'gangstr'], ['hipstr', 'eh'], ['eh', 'gangstr'], ['hipstr', 'gangstr', 'eh']]\n",
    "for comb in combinations:\n",
    "    print(comb)\n",
    "    if len(comb) == 2:\n",
    "        print(analyse_combinations(comb[0], comb[1]))\n",
    "    if len(comb) == 3:\n",
    "        print(analyse_combinations(comb[0], comb[1], comb[2]))"
   ]
  },
  {
   "cell_type": "code",
   "execution_count": 18,
   "metadata": {},
   "outputs": [
    {
     "name": "stdout",
     "output_type": "stream",
     "text": [
      "0.7210205042328083% of calls with at least one caller with False MI were corrected by EnsembleTR\n"
     ]
    }
   ],
   "source": [
    "def no_nan(raw_mend):\n",
    "    for v in raw_mend.values():\n",
    "        if np.isnan(v):\n",
    "            return False\n",
    "    return True\n",
    "def had_false(raw_mend):\n",
    "    for v in raw_mend.values():\n",
    "        if v == False:\n",
    "            return True\n",
    "    return False\n",
    "called_by_at_least_two_no_nan = called_by_at_least_two[called_by_at_least_two.apply(lambda x: no_nan(x['raw_mend']), \n",
    "                                                                                    axis = 1)]\n",
    "called_by_at_least_two_no_nan_had_false = called_by_at_least_two_no_nan[called_by_at_least_two_no_nan.apply(lambda x: had_false(x['raw_mend']), \n",
    "                                                                                                            axis = 1)]\n",
    "\n",
    "corrected_by_Ensemble = len(called_by_at_least_two_no_nan_had_false[called_by_at_least_two_no_nan_had_false['gbs_MI'] == \n",
    "                                                                True]) / len(called_by_at_least_two_no_nan_had_false)\n",
    "print(f\"{corrected_by_Ensemble}% of calls with at least one caller with False MI were corrected by EnsembleTR\")\n",
    "\n",
    "corrected_by_hipstr = len(called_by_at_least_two_no_nan_had_false[(called_by_at_least_two_no_nan_had_false['raw_mend'].apply(lambda x: (x.get('hipstr') == True)))])/len(called_by_at_least_two_no_nan_had_false[called_by_at_least_two_no_nan_had_false['raw_mend'].apply(lambda x: (x.get('hipstr') in [True, False]))])\n",
    "\n",
    "print(f\"{corrected_by_hipstr}% of calls with at least one caller with False MI were corrected by HipSTR\")"
   ]
  },
  {
   "cell_type": "code",
   "execution_count": 47,
   "metadata": {},
   "outputs": [
    {
     "name": "stdout",
     "output_type": "stream",
     "text": [
      "0.9915409503991793\n",
      "0.9813119159461452\n"
     ]
    }
   ],
   "source": [
    "hipstr_gangstr = called_by_at_least_two[called_by_at_least_two.apply(lambda x: check(x['raw_mend'], 'hipstr', 'gangstr'), axis = 1)]\n",
    "print(len(hipstr_gangstr[hipstr_gangstr['raw_mend'].apply(lambda x: (x.get('hipstr') == True))])/len(hipstr_gangstr))\n",
    "print(len(hipstr_gangstr[hipstr_gangstr['raw_mend'].apply(lambda x: (x.get('gangstr') == True))])/len(hipstr_gangstr))"
   ]
  },
  {
   "cell_type": "code",
   "execution_count": 42,
   "metadata": {},
   "outputs": [
    {
     "name": "stdout",
     "output_type": "stream",
     "text": [
      "0.9959899983399735\n",
      "0.9894847692563081\n"
     ]
    }
   ],
   "source": [
    "hipstr_eh = called_by_at_least_two[called_by_at_least_two.apply(lambda x: check(x['raw_mend'], 'hipstr', 'eh'), axis = 1)]\n",
    "print(len(hipstr_eh[hipstr_eh['raw_mend'].apply(lambda x: (x.get('hipstr') == True))])/len(hipstr_eh))\n",
    "print(len(hipstr_eh[hipstr_eh['raw_mend'].apply(lambda x: (x.get('eh') == True))])/len(hipstr_eh))"
   ]
  },
  {
   "cell_type": "code",
   "execution_count": 43,
   "metadata": {},
   "outputs": [
    {
     "name": "stdout",
     "output_type": "stream",
     "text": [
      "0.9465559599038322\n",
      "0.9859821064939501\n"
     ]
    }
   ],
   "source": [
    "gangstr_eh = called_by_at_least_two[called_by_at_least_two.apply(lambda x: check(x['raw_mend'], 'gangstr', 'eh'), axis = 1)]\n",
    "print(len(gangstr_eh[gangstr_eh['raw_mend'].apply(lambda x: (x.get('gangstr') == True))])/len(gangstr_eh))\n",
    "print(len(gangstr_eh[gangstr_eh['raw_mend'].apply(lambda x: (x.get('eh') == True))])/len(gangstr_eh))"
   ]
  },
  {
   "cell_type": "code",
   "execution_count": 44,
   "metadata": {},
   "outputs": [
    {
     "name": "stdout",
     "output_type": "stream",
     "text": [
      "0.9818055415257914\n",
      "0.993241945099717\n",
      "0.9959584375662287\n"
     ]
    }
   ],
   "source": [
    "gangstr_eh_hipstr = called_by_at_least_two[called_by_at_least_two.apply(lambda x: check(x['raw_mend'], 'gangstr', 'eh','hipstr'), axis = 1)]\n",
    "print(len(gangstr_eh_hipstr[gangstr_eh_hipstr['raw_mend'].apply(lambda x: (x.get('gangstr') == True))])/len(gangstr_eh_hipstr))\n",
    "print(len(gangstr_eh_hipstr[gangstr_eh_hipstr['raw_mend'].apply(lambda x: (x.get('eh') == True))])/len(gangstr_eh_hipstr))\n",
    "print(len(gangstr_eh_hipstr[gangstr_eh_hipstr['raw_mend'].apply(lambda x: (x.get('hipstr') == True))])/len(gangstr_eh_hipstr))\n"
   ]
  },
  {
   "cell_type": "code",
   "execution_count": 46,
   "metadata": {},
   "outputs": [
    {
     "name": "stderr",
     "output_type": "stream",
     "text": [
      "<ipython-input-46-a533b93c4608>:2: SettingWithCopyWarning: \n",
      "A value is trying to be set on a copy of a slice from a DataFrame.\n",
      "Try using .loc[row_indexer,col_indexer] = value instead\n",
      "\n",
      "See the caveats in the documentation: https://pandas.pydata.org/pandas-docs/stable/user_guide/indexing.html#returning-a-view-versus-a-copy\n",
      "  hipstr_only['raw_mend'] = hipstr_only.apply(lambda x: analyse_raw_calls_mendelian(x['raw_calls']), axis = 1)\n"
     ]
    },
    {
     "name": "stdout",
     "output_type": "stream",
     "text": [
      "0.9918981945369209\n"
     ]
    },
    {
     "name": "stderr",
     "output_type": "stream",
     "text": [
      "<ipython-input-46-a533b93c4608>:7: SettingWithCopyWarning: \n",
      "A value is trying to be set on a copy of a slice from a DataFrame.\n",
      "Try using .loc[row_indexer,col_indexer] = value instead\n",
      "\n",
      "See the caveats in the documentation: https://pandas.pydata.org/pandas-docs/stable/user_guide/indexing.html#returning-a-view-versus-a-copy\n",
      "  gangstr_only['raw_mend'] = gangstr_only.apply(lambda x: analyse_raw_calls_mendelian(x['raw_calls']), axis = 1)\n"
     ]
    },
    {
     "name": "stdout",
     "output_type": "stream",
     "text": [
      "0.8802109552733808\n",
      "0.9825446930866358\n"
     ]
    },
    {
     "name": "stderr",
     "output_type": "stream",
     "text": [
      "<ipython-input-46-a533b93c4608>:11: SettingWithCopyWarning: \n",
      "A value is trying to be set on a copy of a slice from a DataFrame.\n",
      "Try using .loc[row_indexer,col_indexer] = value instead\n",
      "\n",
      "See the caveats in the documentation: https://pandas.pydata.org/pandas-docs/stable/user_guide/indexing.html#returning-a-view-versus-a-copy\n",
      "  eh_only['raw_mend'] = eh_only.apply(lambda x: analyse_raw_calls_mendelian(x['raw_calls']), axis = 1)\n"
     ]
    }
   ],
   "source": [
    "hipstr_only = data[data['method'] == \"0|0|1|0\"]\n",
    "hipstr_only['raw_mend'] = hipstr_only.apply(lambda x: analyse_raw_calls_mendelian(x['raw_calls']), axis = 1)\n",
    "print(len(hipstr_only[hipstr_only['raw_mend'].apply(lambda x: (x.get('hipstr') == True))])/len(hipstr_only))\n",
    "\n",
    "\n",
    "gangstr_only = data[data['method'] == \"0|0|0|1\"]\n",
    "gangstr_only['raw_mend'] = gangstr_only.apply(lambda x: analyse_raw_calls_mendelian(x['raw_calls']), axis = 1)\n",
    "print(len(gangstr_only[gangstr_only['raw_mend'].apply(lambda x: (x.get('gangstr') == True))])/len(gangstr_only))\n",
    "\n",
    "eh_only = data[data['method'] == \"0|1|0|0\"]\n",
    "eh_only['raw_mend'] = eh_only.apply(lambda x: analyse_raw_calls_mendelian(x['raw_calls']), axis = 1)\n",
    "print(len(eh_only[eh_only['raw_mend'].apply(lambda x: (x.get('eh') == True))])/len(eh_only))\n"
   ]
  },
  {
   "cell_type": "code",
   "execution_count": null,
   "metadata": {},
   "outputs": [],
   "source": []
  }
 ],
 "metadata": {
  "kernelspec": {
   "display_name": "Python 3",
   "language": "python",
   "name": "python3"
  },
  "language_info": {
   "codemirror_mode": {
    "name": "ipython",
    "version": 3
   },
   "file_extension": ".py",
   "mimetype": "text/x-python",
   "name": "python",
   "nbconvert_exporter": "python",
   "pygments_lexer": "ipython3",
   "version": "3.8.5"
  }
 },
 "nbformat": 4,
 "nbformat_minor": 4
}
