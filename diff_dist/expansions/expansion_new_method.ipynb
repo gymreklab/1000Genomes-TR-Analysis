{
 "cells": [
  {
   "cell_type": "code",
   "execution_count": 1,
   "metadata": {},
   "outputs": [
    {
     "name": "stderr",
     "output_type": "stream",
     "text": [
      "/cm/shared/apps/spack/gpu/opt/spack/linux-centos8-skylake_avx512/gcc-8.3.1/anaconda3-2020.11-bsn4npoxyw7jzz7fajncek3bvdoaa5wv/lib/python3.8/site-packages/tqdm/std.py:697: FutureWarning: The Panel class is removed from pandas. Accessing it from the top-level namespace will also be removed in the next version\n",
      "  from pandas import Panel\n"
     ]
    }
   ],
   "source": [
    "import pandas as pd\n",
    "import numpy as np\n",
    "from tqdm import tqdm\n",
    "tqdm.pandas(desc='My bar!')\n",
    "from collections import defaultdict"
   ]
  },
  {
   "cell_type": "code",
   "execution_count": 28,
   "metadata": {},
   "outputs": [
    {
     "name": "stderr",
     "output_type": "stream",
     "text": [
      "/cm/shared/apps/spack/gpu/opt/spack/linux-centos8-skylake_avx512/gcc-8.3.1/anaconda3-2020.11-bsn4npoxyw7jzz7fajncek3bvdoaa5wv/lib/python3.8/site-packages/IPython/core/interactiveshell.py:3146: DtypeWarning: Columns (0) have mixed types.Specify dtype option on import or set low_memory=False.\n",
      "  has_raised = await self.run_ast_nodes(code_ast.body, cell_name,\n"
     ]
    }
   ],
   "source": [
    "genes = pd.read_csv(\"Homo_sapiens.GRCh38.108.gtf\", sep = \"\\t\", comment=\"#\", header=None)\n",
    "genes[0] = \"chr\" + genes[0].astype(str)\n",
    "\n",
    "\n",
    "def find_genes(row):\n",
    "    gene_df = genes[(genes[0] == row['CHROM']) & (genes[3] <= row['POS']) & \n",
    "                    (genes[4] >= row['POS'])]\n",
    "    if len(gene_df) == 0:\n",
    "        return None\n",
    "    gene_df_info = gene_df[8].str.split(\";\")\n",
    "    gene_set = set()\n",
    "    for info in list(gene_df_info):\n",
    "        for field in info:\n",
    "            if \"gene_name\" in field:\n",
    "                name = field.strip().replace(\"gene_name \",\"\").replace('\"','')\n",
    "                gene_set.add(name)\n",
    "    if len(gene_set) == 0:\n",
    "        return None\n",
    "                \n",
    "    return \",\".join(list(gene_set))"
   ]
  },
  {
   "cell_type": "code",
   "execution_count": 29,
   "metadata": {},
   "outputs": [],
   "source": [
    "all_expansions = pd.DataFrame(columns = ['CHROM', 'POS', 'PERIOD', 'MOTIF', 'outlier_threshold', 'AFR_freq',\n",
    "       'NON_AFR_freq'])\n",
    "for i in range(1,23):\n",
    "    expansions = pd.read_csv(f\"{i}_expansions.csv\")\n",
    "    all_expansions = pd.concat([expansions, all_expansions])\n",
    "    \n",
    "    \n",
    "all_expansions['gene'] = all_expansions.apply(lambda row: find_genes(row), axis = 1)"
   ]
  },
  {
   "cell_type": "code",
   "execution_count": 36,
   "metadata": {
    "scrolled": true
   },
   "outputs": [],
   "source": [
    "significant_expansion = all_expansions[(all_expansions['outlier_threshold'] > 10) & \n",
    "               (all_expansions['PERIOD'] > 2)].sort_values('outlier_threshold', ascending = False)\n",
    "\n",
    "significant_expansion.to_csv(\"significant_expansions.csv\",  index = False)"
   ]
  },
  {
   "cell_type": "code",
   "execution_count": null,
   "metadata": {},
   "outputs": [],
   "source": []
  }
 ],
 "metadata": {
  "kernelspec": {
   "display_name": "Python 3",
   "language": "python",
   "name": "python3"
  },
  "language_info": {
   "codemirror_mode": {
    "name": "ipython",
    "version": 3
   },
   "file_extension": ".py",
   "mimetype": "text/x-python",
   "name": "python",
   "nbconvert_exporter": "python",
   "pygments_lexer": "ipython3",
   "version": "3.8.5"
  }
 },
 "nbformat": 4,
 "nbformat_minor": 4
}
